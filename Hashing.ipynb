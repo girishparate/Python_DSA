{
 "cells": [
  {
   "cell_type": "markdown",
   "id": "104b6a0d",
   "metadata": {},
   "source": [
    "## Find the occurence of the number in the array"
   ]
  },
  {
   "cell_type": "code",
   "execution_count": 2,
   "id": "595633f4",
   "metadata": {},
   "outputs": [
    {
     "name": "stdout",
     "output_type": "stream",
     "text": [
      "{'g': 1, 'i': 2, 'r': 2, 's': 1, 'h': 1, 'p': 1, 'a': 2, 't': 1, 'e': 1, '1': 1, '2': 1}\n"
     ]
    }
   ],
   "source": [
    "arr = [1,2,3,4,5,1,4,8,9,1,2,4]\n",
    "\n",
    "arr = \"girishparate12\"\n",
    "\n",
    "dictionary = {}\n",
    "\n",
    "for i in arr:\n",
    "    if i not in dictionary:\n",
    "        dictionary[i] = 1\n",
    "    else:\n",
    "        dictionary[i] += 1\n",
    "\n"
   ]
  },
  {
   "cell_type": "markdown",
   "id": "a6350148",
   "metadata": {},
   "source": [
    "## Find the number or char who has highest occurence in the list or in an array"
   ]
  },
  {
   "cell_type": "code",
   "execution_count": 23,
   "id": "205c563c",
   "metadata": {},
   "outputs": [
    {
     "name": "stdout",
     "output_type": "stream",
     "text": [
      "{1: 3, 2: 2, 3: 4, 4: 3, 5: 1, 8: 1, 9: 1}\n"
     ]
    }
   ],
   "source": [
    "arr = [1,2,3,4,5,1,4,8,9,1,2,4, 3, 3, 3]\n",
    "\n",
    "dictionary = {}\n",
    "\n",
    "for i in arr:\n",
    "    if i in dictionary:\n",
    "        dictionary[i] += 1\n",
    "    else:\n",
    "        dictionary[i] = 1\n",
    "        \n",
    "print(dictionary)\n",
    "max_count = 0\n",
    "number_max = None\n",
    "\n",
    "for number, occurence in dictionary.items():\n",
    "    if occurence > max_count:\n",
    "        max_count = occurence\n",
    "        number_max = number\n",
    "        "
   ]
  },
  {
   "cell_type": "code",
   "execution_count": 24,
   "id": "84554366",
   "metadata": {},
   "outputs": [
    {
     "data": {
      "text/plain": [
       "3"
      ]
     },
     "execution_count": 24,
     "metadata": {},
     "output_type": "execute_result"
    }
   ],
   "source": [
    "number_max"
   ]
  },
  {
   "cell_type": "code",
   "execution_count": null,
   "id": "e9ef358a",
   "metadata": {},
   "outputs": [],
   "source": []
  }
 ],
 "metadata": {
  "kernelspec": {
   "display_name": "Python 3 (ipykernel)",
   "language": "python",
   "name": "python3"
  },
  "language_info": {
   "codemirror_mode": {
    "name": "ipython",
    "version": 3
   },
   "file_extension": ".py",
   "mimetype": "text/x-python",
   "name": "python",
   "nbconvert_exporter": "python",
   "pygments_lexer": "ipython3",
   "version": "3.9.13"
  }
 },
 "nbformat": 4,
 "nbformat_minor": 5
}
