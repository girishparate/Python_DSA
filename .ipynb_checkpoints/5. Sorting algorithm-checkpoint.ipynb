{
 "cells": [
  {
   "cell_type": "markdown",
   "id": "225f84ef",
   "metadata": {},
   "source": [
    "## Selection sort"
   ]
  },
  {
   "cell_type": "code",
   "execution_count": 12,
   "id": "2dfe9c8f",
   "metadata": {},
   "outputs": [
    {
     "data": {
      "text/plain": [
       "[5, 7, 9, 13, 21, 23, 100]"
      ]
     },
     "execution_count": 12,
     "metadata": {},
     "output_type": "execute_result"
    }
   ],
   "source": [
    "def selection_sort(arr):\n",
    "    n = len(arr)\n",
    "    \n",
    "    for i in range(0, n-1):\n",
    "        mini = i\n",
    "        for j in range(i, n):\n",
    "            if arr[i] > arr[j]:\n",
    "                mini = j\n",
    "        arr[i], arr[mini] = arr[mini], arr[i]\n",
    "    return arr\n",
    "\n",
    "selection_sort([9,7,5,13,21,100,23])"
   ]
  },
  {
   "cell_type": "markdown",
   "id": "0ead0fe8",
   "metadata": {},
   "source": [
    "## Bubble sort"
   ]
  },
  {
   "cell_type": "code",
   "execution_count": 25,
   "id": "10478864",
   "metadata": {},
   "outputs": [
    {
     "name": "stdout",
     "output_type": "stream",
     "text": [
      "6\n",
      "5\n",
      "4\n",
      "3\n",
      "2\n"
     ]
    },
    {
     "data": {
      "text/plain": [
       "[5, 7, 9, 13, 21, 23, 100]"
      ]
     },
     "execution_count": 25,
     "metadata": {},
     "output_type": "execute_result"
    }
   ],
   "source": [
    "def bubble_sort(arr):\n",
    "    n = len(arr)\n",
    "    \n",
    "    for i in range(n-1, 1, -1):\n",
    "        for j in range(0, i):\n",
    "            if arr[j] > arr[j+1]:\n",
    "                arr[j], arr[j+1] = arr[j+1], arr[j]\n",
    "                \n",
    "    return arr\n",
    "\n",
    "bubble_sort([9,7,5,13,21,100,23])"
   ]
  },
  {
   "cell_type": "code",
   "execution_count": 14,
   "id": "96797eca",
   "metadata": {},
   "outputs": [
    {
     "name": "stdout",
     "output_type": "stream",
     "text": [
      "[5, 7, 9, 13, 21, 23, 100]\n",
      "for sorted : \n",
      "[1, 2, 3, 4, 5, 6, 7]\n"
     ]
    }
   ],
   "source": [
    "# bubble sort gives O(n^2) time complexity in worst and avg case scenario\n",
    "# but, if the array is already in sorted manner it can give you the O(n) time complexity by following code\n",
    "\n",
    "def bubble_sort(arr):\n",
    "    n = len(arr)\n",
    "    \n",
    "    for i in range(n-1, 1, -1):\n",
    "        counter = 0\n",
    "        for j in range(0, i):\n",
    "            if arr[j] > arr[j+1]:\n",
    "                arr[j], arr[j+1] = arr[j+1], arr[j]\n",
    "                counter = 1\n",
    "        if counter == 0:\n",
    "            \n",
    "            break\n",
    "    return arr\n",
    "\n",
    "print(bubble_sort([9,7,5,13,21,100,23]))\n",
    "print(\"for sorted : \")\n",
    "print(bubble_sort([1,2,3,4,5,6,7]))"
   ]
  },
  {
   "cell_type": "markdown",
   "id": "473f7516",
   "metadata": {},
   "source": [
    "## Insertion sort"
   ]
  },
  {
   "cell_type": "code",
   "execution_count": 17,
   "id": "9fb453d1",
   "metadata": {},
   "outputs": [
    {
     "name": "stdout",
     "output_type": "stream",
     "text": [
      "[5, 7, 9, 13, 21, 100, 23]\n"
     ]
    }
   ],
   "source": [
    "def insertion_sort(arr):\n",
    "    n = len(arr)\n",
    "    for i in range(0, n-1):\n",
    "        j = i\n",
    "        while j > 0 and arr[j] < arr[j-1]:\n",
    "            arr[j], arr[j-1] = arr[j-1], arr[j]\n",
    "            j -= 1\n",
    "            \n",
    "    return arr\n",
    "\n",
    "print(insertion_sort([9,7,5,13,21,100,23]))"
   ]
  },
  {
   "cell_type": "code",
   "execution_count": 1,
   "id": "5a425162",
   "metadata": {},
   "outputs": [],
   "source": [
    "# all the above sorting algorithms gives you O(n^2) time complexity"
   ]
  },
  {
   "cell_type": "markdown",
   "id": "f2e707b8",
   "metadata": {},
   "source": [
    "## Merge sort"
   ]
  },
  {
   "cell_type": "code",
   "execution_count": 6,
   "id": "ed858fcb",
   "metadata": {},
   "outputs": [],
   "source": [
    "def merge(arr, low, mid, high):\n",
    "    new_arr = []\n",
    "    pt_l = low      # pointer of left side\n",
    "    pt_r = mid + 1  # pointer of right side\n",
    "    while pt_l <= mid and pt_r <= high:\n",
    "        if arr[pt_l] <= arr[pt_r]:\n",
    "            new_arr.append(arr[pt_l])\n",
    "            pt_l += 1\n",
    "        else:\n",
    "            new_arr.append(arr[pt_r])\n",
    "            pt_r += 1\n",
    "    while pt_l <= mid:\n",
    "        new_arr.append(arr[pt_l])\n",
    "        pt_l += 1\n",
    "    while pt_r <= high:\n",
    "        new_arr.append(arr[pt_r])\n",
    "        pt_r += 1\n",
    "        \n",
    "    for i in range(low, high+1):\n",
    "        arr[i] = new_arr[i - low]\n",
    "\n",
    "def merge_sort(arr, low, high):\n",
    "    if low >= high:\n",
    "        return\n",
    "    mid = (low+high)//2\n",
    "    \n",
    "    merge_sort(arr, low, mid)\n",
    "    merge_sort(arr, mid+1, high)\n",
    "    merge(arr, low, mid, high) \n",
    "    "
   ]
  },
  {
   "cell_type": "code",
   "execution_count": 7,
   "id": "a4455c7d",
   "metadata": {},
   "outputs": [
    {
     "name": "stdout",
     "output_type": "stream",
     "text": [
      "[2, 2, 4, 4, 5, 6, 8]\n"
     ]
    }
   ],
   "source": [
    "ex_array = [5,4,2,6,8,2,4]\n",
    "data = merge_sort(ex_array, 0, 6)\n",
    "\n",
    "print(ex_array)"
   ]
  },
  {
   "cell_type": "markdown",
   "id": "320ca9fc",
   "metadata": {},
   "source": [
    "## Recursive Bubble sort"
   ]
  },
  {
   "cell_type": "code",
   "execution_count": 7,
   "id": "ff250bd8",
   "metadata": {},
   "outputs": [
    {
     "name": "stdout",
     "output_type": "stream",
     "text": [
      "[2, 2, 4, 4, 5, 6, 8]\n"
     ]
    }
   ],
   "source": [
    "def recursive_bubble_sort(arr, start, end):\n",
    "    if start >= end:\n",
    "        print(arr)\n",
    "        return\n",
    "    for i in range(start, end):\n",
    "        if arr[i] > arr[i+1]:\n",
    "            arr[i], arr[i+1] = arr[i+1], arr[i]\n",
    "    recursive_bubble_sort(arr, start, end-1)\n",
    "recursive_bubble_sort([5,4,2,6,8,2,4], 0, len([5,4,2,6,8,2,4])-1)"
   ]
  },
  {
   "cell_type": "markdown",
   "id": "a09dce75",
   "metadata": {},
   "source": [
    "## Recursive Insertion sort"
   ]
  },
  {
   "cell_type": "code",
   "execution_count": 22,
   "id": "b0371e32",
   "metadata": {},
   "outputs": [
    {
     "name": "stdout",
     "output_type": "stream",
     "text": [
      "[2, 2, 4, 4, 5, 6, 8]\n"
     ]
    }
   ],
   "source": [
    "def recursive_insertion_sort(arr, end, current):\n",
    "    if current > end:\n",
    "        print(arr)\n",
    "        return\n",
    "    i = current \n",
    "    while arr[i] < arr[i-1] and i > 0:\n",
    "        arr[i], arr[i-1] = arr[i-1], arr[i]\n",
    "        i -= 1\n",
    "        \n",
    "    recursive_insertion_sort(arr, end, current+1)\n",
    "    \n",
    "recursive_insertion_sort([5,4,2,6,8,2,4], len([5,4,2,6,8,2,4])-1, 0)"
   ]
  },
  {
   "cell_type": "code",
   "execution_count": null,
   "id": "3f602e18",
   "metadata": {},
   "outputs": [],
   "source": []
  }
 ],
 "metadata": {
  "kernelspec": {
   "display_name": "Python 3 (ipykernel)",
   "language": "python",
   "name": "python3"
  },
  "language_info": {
   "codemirror_mode": {
    "name": "ipython",
    "version": 3
   },
   "file_extension": ".py",
   "mimetype": "text/x-python",
   "name": "python",
   "nbconvert_exporter": "python",
   "pygments_lexer": "ipython3",
   "version": "3.9.13"
  }
 },
 "nbformat": 4,
 "nbformat_minor": 5
}
