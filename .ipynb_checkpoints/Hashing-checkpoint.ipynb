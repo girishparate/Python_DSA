{
 "cells": [
  {
   "cell_type": "markdown",
   "id": "ed6ca19c",
   "metadata": {},
   "source": [
    "## Find the occurence of the number in the array"
   ]
  },
  {
   "cell_type": "code",
   "execution_count": 2,
   "id": "5f900f76",
   "metadata": {},
   "outputs": [
    {
     "name": "stdout",
     "output_type": "stream",
     "text": [
      "{'g': 1, 'i': 2, 'r': 2, 's': 1, 'h': 1, 'p': 1, 'a': 2, 't': 1, 'e': 1, '1': 1, '2': 1}\n"
     ]
    }
   ],
   "source": [
    "arr = [1,2,3,4,5,1,4,8,9,1,2,4]\n",
    "\n",
    "arr = \"girishparate12\"\n",
    "\n",
    "dictionary = {}\n",
    "\n",
    "for i in arr:\n",
    "    if i not in dictionary:\n",
    "        dictionary[i] = 1\n",
    "    else:\n",
    "        dictionary[i] += 1\n",
    "\n"
   ]
  },
  {
   "cell_type": "markdown",
   "id": "40929e65",
   "metadata": {},
   "source": [
    "## Find the number or char who has highest occurence in the list or in an array"
   ]
  },
  {
   "cell_type": "code",
   "execution_count": 11,
   "id": "69cf0e7e",
   "metadata": {},
   "outputs": [
    {
     "name": "stdout",
     "output_type": "stream",
     "text": [
      "1 0\n",
      "2 1\n",
      "3 2\n",
      "4 3\n",
      "5 4\n",
      "8 5\n",
      "9 6\n"
     ]
    }
   ],
   "source": [
    "arr = [1,2,3,4,5,1,4,8,9,1,2,4]\n",
    "\n",
    "dictionary = {}\n",
    "\n",
    "for i in arr:\n",
    "    if i in dictionary:\n",
    "        dictionary[i] += 1\n",
    "    else:\n",
    "        dictionary[i] = 1\n",
    "        \n",
    "max_count = 0\n",
    "number_max = None\n",
    "\n",
    "for number, occurence in enumerate(dictionary):\n",
    "    print(occurence, number)\n",
    "    if occurence > max_count:\n",
    "        \n",
    "        max_count = occurence\n",
    "        number_max = number\n",
    "    else:\n",
    "        "
   ]
  },
  {
   "cell_type": "code",
   "execution_count": 10,
   "id": "a37f3fbd",
   "metadata": {},
   "outputs": [
    {
     "data": {
      "text/plain": [
       "6"
      ]
     },
     "execution_count": 10,
     "metadata": {},
     "output_type": "execute_result"
    }
   ],
   "source": [
    "number_max"
   ]
  },
  {
   "cell_type": "code",
   "execution_count": null,
   "id": "9704ae78",
   "metadata": {},
   "outputs": [],
   "source": []
  }
 ],
 "metadata": {
  "kernelspec": {
   "display_name": "Python 3 (ipykernel)",
   "language": "python",
   "name": "python3"
  },
  "language_info": {
   "codemirror_mode": {
    "name": "ipython",
    "version": 3
   },
   "file_extension": ".py",
   "mimetype": "text/x-python",
   "name": "python",
   "nbconvert_exporter": "python",
   "pygments_lexer": "ipython3",
   "version": "3.9.13"
  }
 },
 "nbformat": 4,
 "nbformat_minor": 5
}
