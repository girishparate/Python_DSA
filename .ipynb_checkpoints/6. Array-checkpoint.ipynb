{
 "cells": [
  {
   "cell_type": "markdown",
   "id": "5f8c9a23",
   "metadata": {},
   "source": [
    "## Easy"
   ]
  },
  {
   "cell_type": "code",
   "execution_count": 2,
   "id": "16903c8c",
   "metadata": {},
   "outputs": [
    {
     "data": {
      "text/plain": [
       "8"
      ]
     },
     "execution_count": 2,
     "metadata": {},
     "output_type": "execute_result"
    }
   ],
   "source": [
    "# largest element in an Array\n",
    "li = [5,4,3,7,8,2,4,7,1]\n",
    "\n",
    "def findLargestElement(arr):\n",
    "    max_ele = arr[0]\n",
    "    for i in arr:\n",
    "        if max_ele < i:\n",
    "            max_ele = i\n",
    "    return max_ele\n",
    "findLargestElement(li)"
   ]
  },
  {
   "cell_type": "code",
   "execution_count": 20,
   "id": "a6816804",
   "metadata": {},
   "outputs": [
    {
     "name": "stdout",
     "output_type": "stream",
     "text": [
      "(7, 2)\n",
      "(7, 2)\n"
     ]
    }
   ],
   "source": [
    "# 2nd largest element in the array\n",
    "\n",
    "# approach 1\n",
    "def SecondLargestAndSecondSmallest1(arr):\n",
    "    largest = arr[0]\n",
    "    smallest = arr[0]\n",
    "    \n",
    "    for i in arr:\n",
    "        if i > largest:\n",
    "            largest = i\n",
    "        \n",
    "        if i < smallest:\n",
    "            smallest = i\n",
    "    sec_largest = arr[0]\n",
    "    sec_smallest = arr[0]\n",
    "    \n",
    "    for i in arr:\n",
    "        if i > sec_largest and i != largest:\n",
    "            sec_largest = i\n",
    "        if i < sec_smallest and i != smallest:\n",
    "            sec_smallest = i            \n",
    "    return (sec_largest, sec_smallest)\n",
    "\n",
    "def SecondLargestAndSecondSmallest2(arr):\n",
    "    largest1 = arr[0]\n",
    "    smallest1 = arr[0]\n",
    "    sec_smallest1 = arr[0]\n",
    "    sec_largest1 = arr[0]\n",
    "    \n",
    "    for i in arr:\n",
    "        if i < smallest1:\n",
    "            sec_smallest1 = smallest1\n",
    "            smallest1 = i\n",
    "        elif i < sec_smallest1 and i != smallest1:\n",
    "            sec_smallest1 = i\n",
    "            \n",
    "    for i in arr:        \n",
    "        if i > largest1:\n",
    "            sec_largest1 = largest1\n",
    "            largest1 = i\n",
    "        elif i > sec_largest1 and i != largest1:\n",
    "            sec_largest1 = i\n",
    "    return (sec_largest1, sec_smallest1)\n",
    "\n",
    "print(SecondLargestAndSecondSmallest1(li))\n",
    "print(SecondLargestAndSecondSmallest2(li))"
   ]
  },
  {
   "cell_type": "code",
   "execution_count": 34,
   "id": "3b18f7de",
   "metadata": {},
   "outputs": [
    {
     "name": "stdout",
     "output_type": "stream",
     "text": [
      "False\n",
      "True\n"
     ]
    }
   ],
   "source": [
    "# Check if the array is sorted or not\n",
    "def CheckSortedArray(arr):\n",
    "    \n",
    "    for i in range(0, len(arr)-1):\n",
    "        if arr[i] > arr[i + 1]:\n",
    "            return False\n",
    "        \n",
    "    return True\n",
    "        \n",
    "print(CheckSortedArray([5,4,3,7,8,2,4,7,1]))\n",
    "print(CheckSortedArray([1,2,2,5,6,7,9]))"
   ]
  },
  {
   "cell_type": "code",
   "execution_count": 47,
   "id": "93701be9",
   "metadata": {},
   "outputs": [
    {
     "name": "stdout",
     "output_type": "stream",
     "text": [
      "[5, 4, 3, 7, 8, 2, 4, 7, 1]\n",
      "[1, 2, 5, 6, 7, 9]\n",
      "[5, 4, 3, 7, 8, 2, 4, 7, 1]\n",
      "[1, 2, 5, 6, 7, 9]\n"
     ]
    }
   ],
   "source": [
    "# Remove duplicates from the sorted array\n",
    "def RemoveDuplicatesFromSortedArray(arr):\n",
    "    n = len(arr)-2\n",
    "    i = 0\n",
    "    while i < n:\n",
    "        if arr[i] == arr[i+1]:\n",
    "            arr.remove(arr[i])\n",
    "            n -= 1\n",
    "        else:\n",
    "            i += 1\n",
    "    return arr\n",
    "\n",
    "# 2nd approach\n",
    "def RemoveDuplicatesFromSortedArray1(arr):\n",
    "    i = 0\n",
    "    for j in range(1, len(arr)):\n",
    "        if arr[i] != arr[j]:\n",
    "            i += 1\n",
    "            arr[i] = arr[j]\n",
    "    return arr[:i+1]\n",
    "\n",
    "print(RemoveDuplicatesFromSortedArray([5,4,3,7,8,2,4,7,1]))\n",
    "print(RemoveDuplicatesFromSortedArray([1,2,2,2,2,5,6,7,9]))\n",
    "\n",
    "print(RemoveDuplicatesFromSortedArray1([5,4,3,7,8,2,4,7,1]))\n",
    "print(RemoveDuplicatesFromSortedArray1([1,2,2,2,2,5,6,7,9]))"
   ]
  },
  {
   "cell_type": "code",
   "execution_count": 75,
   "id": "81530184",
   "metadata": {},
   "outputs": [
    {
     "name": "stdout",
     "output_type": "stream",
     "text": [
      "[2, 5, 6, 7, 9, 1]\n",
      "[2, 5, 6, 7, 9, 1]\n"
     ]
    }
   ],
   "source": [
    "# left rotate the array by one\n",
    "\"\"\"\n",
    "look at the both the conditions and always replace 1st element with the last element using index and not with i'th index  \n",
    "\"\"\"\n",
    "\n",
    "def LeftRotate(arr):\n",
    "    last_will = arr[0]\n",
    "    for i in range(1, len(arr)):\n",
    "        arr[i - 1] = arr[i]\n",
    "    arr[len(arr)-1] = last_will\n",
    "    return arr\n",
    "\n",
    "\n",
    "def LeftRotate1(arr):\n",
    "    last_will = arr[0]\n",
    "    for i in range(len(arr)-1):\n",
    "        arr[i] = arr[i+1]\n",
    "    arr[len(arr)-1] = last_will\n",
    "    return arr\n",
    "\n",
    "print(LeftRotate([1, 2, 5, 6, 7, 9]))\n",
    "print(LeftRotate1([1, 2, 5, 6, 7, 9]))"
   ]
  },
  {
   "cell_type": "code",
   "execution_count": 4,
   "id": "972860da",
   "metadata": {},
   "outputs": [
    {
     "name": "stdout",
     "output_type": "stream",
     "text": [
      "[6, 7, 9, 1, 2, 5]\n"
     ]
    }
   ],
   "source": [
    "# Rotate left by D=any number\n",
    "\n",
    "def reverse_array(arr, start, end):\n",
    "    while start < end:\n",
    "        arr[start],arr[end] = arr[end], arr[start]\n",
    "        start += 1\n",
    "        end -= 1\n",
    "        \n",
    "def RotateArray(array, d):\n",
    "    reverse_array(array, 0, d-1)    # [1,2,5,6,7,9] -> [5,2,1,6,7,9]\n",
    "    reverse_array(array, d, len(array)-1)  # [5,2,1,6,7,9] -> [5,2,1,9,7,6]\n",
    "    reverse_array(array, 0, len(array)-1) # [5,2,1,9,7,6] -> [6,7,9,1,2,5]\n",
    "    return array\n",
    "    \n",
    "print(RotateArray([1, 2, 5, 6, 7, 9], 3))"
   ]
  },
  {
   "cell_type": "code",
   "execution_count": 16,
   "id": "22350410",
   "metadata": {},
   "outputs": [
    {
     "data": {
      "text/plain": [
       "[1, 2, 3, 4]"
      ]
     },
     "execution_count": 16,
     "metadata": {},
     "output_type": "execute_result"
    }
   ],
   "source": [
    "# Move all the zeros to the end of the array\n",
    "\n",
    "# brute force approach 1\n",
    "def move_zero1(arr):\n",
    "    for i in range(0, len(arr)):\n",
    "        if arr[i] == 0:\n",
    "            for j in range(i+1, len(arr)):\n",
    "                if arr[j] != 0:\n",
    "                    arr[j], arr[i] = arr[i], arr[j]\n",
    "                    break\n",
    "    return arr\n",
    "\n",
    "# bf approach 2\n",
    "def move_zero2(arr):\n",
    "    temp_arr = []\n",
    "    for i in arr:\n",
    "        if i != 0:\n",
    "            temp_arr.append(i)\n",
    "            \n",
    "    for i in range(0, len(temp_arr)):\n",
    "        arr[i] = temp_arr[i]\n",
    "        \n",
    "    for i in range(len(temp_arr), len(arr)):\n",
    "        arr[i] = 0\n",
    "        \n",
    "    return arr\n",
    "\n",
    "# optimal approach\n",
    "def optimal_move_zero(arr):\n",
    "    j = -1\n",
    "    \n",
    "#     this is to find the 1st zero in the list\n",
    "    for i in range(len(arr)):\n",
    "        if arr[i] == 0:\n",
    "            j = i\n",
    "            break\n",
    "    if j == -1:\n",
    "        return arr\n",
    "    for i in range(j+1, len(arr)):\n",
    "        if arr[i] != 0:\n",
    "            arr[i], arr[j] = arr[j], arr[i]\n",
    "#             \n",
    "            j += 1\n",
    "            \n",
    "    return arr\n",
    "         \n",
    "# optimal_move_zero([1,0,2,3,0,4,0,1]) \n",
    "# optimal_move_zero([1,2,3,4])"
   ]
  },
  {
   "cell_type": "code",
   "execution_count": 25,
   "id": "bdcc13f0",
   "metadata": {},
   "outputs": [
    {
     "data": {
      "text/plain": [
       "'Not present'"
      ]
     },
     "execution_count": 25,
     "metadata": {},
     "output_type": "execute_result"
    }
   ],
   "source": [
    "# liner search\n",
    "def linear_search(arr, ele):\n",
    "    for i in range(0, len(arr)):\n",
    "        if arr[i] == ele:\n",
    "            return i\n",
    "    return \"Not present\"\n",
    "        \n",
    "linear_search([1, 2, 5, 6, 7, 9], 17)"
   ]
  },
  {
   "cell_type": "code",
   "execution_count": 18,
   "id": "87dac6b9",
   "metadata": {},
   "outputs": [
    {
     "data": {
      "text/plain": [
       "[1, 2, 3, 4, 5, 6, 7]"
      ]
     },
     "execution_count": 18,
     "metadata": {},
     "output_type": "execute_result"
    }
   ],
   "source": [
    "def union_arr(arr1, arr2):\n",
    "    i = 0\n",
    "    j = 0\n",
    "    temp = []\n",
    "    while i < len(arr1) and j < len(arr2):\n",
    "        if arr1[i] <= arr2[j]:\n",
    "            if len(temp) == 0 or temp[len(temp)-1] != arr1[i]:\n",
    "                temp.insert(len(temp), arr1[i])\n",
    "            i += 1\n",
    "        else:\n",
    "            if len(temp) == 0 or temp[len(temp)-1] != arr2[j]:\n",
    "                temp.insert(len(temp), arr2[j])\n",
    "            j += 1\n",
    "            \n",
    "    while i < len(arr1):\n",
    "        if len(temp) == 0 or temp[len(temp)-1] != arr1[i]:\n",
    "            temp.insert(len(temp), arr1[i])\n",
    "        i += 1\n",
    "        \n",
    "    while j < len(arr2):\n",
    "        if len(temp) == 0 or temp[len(temp)-1] != arr2[j]:\n",
    "                temp.insert(len(temp), arr2[j])\n",
    "        j += 1\n",
    "    \n",
    "    return temp\n",
    "union_arr([1,2,3,4,5], [2,3,4,4,5,6,7])"
   ]
  },
  {
   "cell_type": "code",
   "execution_count": 28,
   "id": "ed223b01",
   "metadata": {},
   "outputs": [
    {
     "data": {
      "text/plain": [
       "4"
      ]
     },
     "execution_count": 28,
     "metadata": {},
     "output_type": "execute_result"
    }
   ],
   "source": [
    "# find the missing number in an array\n",
    "\n",
    "# approach 1 : assuming the array is sorted\n",
    "def missing_num1(arr, n):\n",
    "    for i in range(1, n+1):\n",
    "        if 0+i != arr[i-1]:\n",
    "            return i\n",
    "\n",
    "# approach 2 : using summation method\n",
    "def missing_num2(arr, n):\n",
    "    sum_of_n_num = n*(n+1)//2\n",
    "    sum_of_arr = 0\n",
    "    for i in arr:\n",
    "        sum_of_arr += i\n",
    "    return sum_of_n_num - sum_of_arr\n",
    "\n",
    "# approach 3 :\n",
    "def missing_num3(arr, n):\n",
    "    xor1 = 0 # for number in range\n",
    "    xor2 = 0 # for array element\n",
    "    for i in range(0, len(arr)):\n",
    "        xor1 = xor1 ^ i+1\n",
    "        xor2 = xor2 ^ arr[i]\n",
    "        \n",
    "    xor1 = xor1 ^ n\n",
    "    return xor1 ^ xor2\n",
    "\n",
    "missing_num3([1,2,3,5], 5)"
   ]
  },
  {
   "cell_type": "code",
   "execution_count": 31,
   "id": "fb10787f",
   "metadata": {},
   "outputs": [
    {
     "data": {
      "text/plain": [
       "3"
      ]
     },
     "execution_count": 31,
     "metadata": {},
     "output_type": "execute_result"
    }
   ],
   "source": [
    "# Count Maximum Consecutive One’s in the array\n",
    "def max_1(arr):\n",
    "    count = 0\n",
    "    max_count = 0\n",
    "    \n",
    "    for i in range(0, len(arr)):\n",
    "        if arr[i] == 1:\n",
    "            count += 1\n",
    "        else:\n",
    "            if count > max_count:\n",
    "                max_count = count\n",
    "            count = 0\n",
    "    return max_count\n",
    "    \n",
    "max_1([1,1,0,1,1,1,0,1])"
   ]
  },
  {
   "cell_type": "code",
   "execution_count": 3,
   "id": "a5b9d05f",
   "metadata": {},
   "outputs": [
    {
     "data": {
      "text/plain": [
       "1"
      ]
     },
     "execution_count": 3,
     "metadata": {},
     "output_type": "execute_result"
    }
   ],
   "source": [
    "# Find the number that appears once, and the other numbers twice\n",
    "\n",
    "# approach 1 : the observation is that, in list, every number is appears twice, hence xor of that number will be 0, \n",
    "# and the number who appears once, will have xor with 0, will give you that number \n",
    "def number_that_appears_once(arr):\n",
    "    xor = 0\n",
    "        \n",
    "    for i in range(0, len(arr)):\n",
    "        xor = xor ^ arr[i]\n",
    "    return xor\n",
    "    \n",
    "number_that_appears_once([1,2,4,2,4])  "
   ]
  },
  {
   "cell_type": "code",
   "execution_count": 12,
   "id": "26adf522",
   "metadata": {},
   "outputs": [
    {
     "data": {
      "text/plain": [
       "2"
      ]
     },
     "execution_count": 12,
     "metadata": {},
     "output_type": "execute_result"
    }
   ],
   "source": [
    "# Longest Subarray with given Sum K(Positives)\n",
    "\n",
    "# approach 1 : using for loop and with n^2 TC\n",
    "def longest_subarray_for_loop(arr, k):\n",
    "    max_length = 0\n",
    "    for i in range(0, len(arr)):\n",
    "        summ = 0\n",
    "        for j in range(i, len(arr)):\n",
    "            summ += arr[j]\n",
    "            if summ == k:\n",
    "                max_length = max(max_length, j-i+1)\n",
    "    return max_length\n",
    "\n",
    "# approach 2 : using hashmap \n",
    "def longest_subarray_hashmap(arr, k):\n",
    "    summ = 0\n",
    "    dic = {}\n",
    "    max_length = 0\n",
    "    \n",
    "    for i in range(0, len(arr)):\n",
    "        summ += arr[i]\n",
    "        \n",
    "        if summ == k:\n",
    "            max_length = max(max_length, i+1)\n",
    "        \n",
    "        rem = summ - k\n",
    "        if rem in dic:\n",
    "            max_length = max(max_length, i - dic[rem])\n",
    "            \n",
    "        if summ not in dic:\n",
    "            dic[summ] = i\n",
    "        \n",
    "    return max_length   \n",
    "\n",
    "# approach 3 : using pointers\n",
    "def longest_subarray_pointer(arr, k):\n",
    "    i = 0    # pointer of left \n",
    "    j = 0    # pointer of right\n",
    "    summ = arr[0]\n",
    "    max_length = 0\n",
    "    \n",
    "    while j < len(arr):\n",
    "       \n",
    "        while summ > k and i <= j:\n",
    "            summ -= arr[i]\n",
    "            i += 1\n",
    "            \n",
    "        if summ == k:\n",
    "            max_length = max(max_length, j - i +1)\n",
    "        j += 1 \n",
    "        \n",
    "        if j < len(arr):\n",
    "            summ += arr[j]\n",
    "    \n",
    "    return max_length  \n",
    "        \n",
    "# longest_subarray_for_loop([2,3,5], 5)\n",
    "# longest_subarray_for_loop([1,2,3,1,4,1,1,1,1], 5)\n",
    "longest_subarray_hashmap([2,3,5], 5)\n",
    "# longest_subarray_pointer([2,3,1,5], 6)"
   ]
  },
  {
   "cell_type": "markdown",
   "id": "adcacd3e",
   "metadata": {},
   "source": [
    "## Medium"
   ]
  },
  {
   "cell_type": "code",
   "execution_count": 18,
   "id": "7e928eee",
   "metadata": {},
   "outputs": [
    {
     "data": {
      "text/plain": [
       "(9, 1, True)"
      ]
     },
     "execution_count": 18,
     "metadata": {},
     "output_type": "execute_result"
    }
   ],
   "source": [
    "# Two Sum : Check if a pair with given sum exists in Array\n",
    "# Two Sum : Give the pair which have given sum\n",
    "\n",
    "# variety 1 : numbers exists or not \n",
    "def two_sum_present(arr, num):\n",
    "    left = 0\n",
    "    right = len(arr) - 1\n",
    "    arr.sort()\n",
    "    \n",
    "    while left < right:\n",
    "        summ = arr[left] + arr[right]\n",
    "        if summ == num:\n",
    "            return arr[left], arr[right], True\n",
    "        elif summ < num:\n",
    "            left += 1\n",
    "        else:\n",
    "            right -= 1\n",
    "    return False\n",
    "\n",
    "# two_sum_present([3,4,5,2,9,1], 110)\n",
    "\n",
    "# using hashmap\n",
    "def two_sum(arr, num):\n",
    "    map_str = {}\n",
    "    \n",
    "    for i in range(0, len(arr)):\n",
    "        rem = num - arr[i]\n",
    "        if rem in map_str:\n",
    "            return rem, arr[i], True\n",
    "        else:\n",
    "            map_str[arr[i]] = i\n",
    "    return False\n",
    "\n",
    "two_sum([3,4,5,2,9,1], 10)"
   ]
  },
  {
   "cell_type": "code",
   "execution_count": 8,
   "id": "2c75f5c1",
   "metadata": {},
   "outputs": [
    {
     "data": {
      "text/plain": [
       "[0, 0, 1, 1, 1, 1, 2, 2]"
      ]
     },
     "execution_count": 8,
     "metadata": {},
     "output_type": "execute_result"
    }
   ],
   "source": [
    "# Sort an array of 0s, 1s and 2s\n",
    "# Input: nums = [2,0,2,1,1,0]\n",
    "# Output: [0,0,1,1,2,2]\n",
    "    \n",
    "def sort_number_zero_one_two(arr):\n",
    "    low = 0\n",
    "    mid = 0\n",
    "    high = len(arr)-1\n",
    "    \n",
    "    while low < high:\n",
    "        if arr[low] == 1:\n",
    "            low += 1\n",
    "            \n",
    "        elif arr[low] == 0:\n",
    "            arr[low], arr[mid] = arr[mid], arr[low]\n",
    "            mid += 1\n",
    "            low += 1\n",
    "            \n",
    "        else:\n",
    "            arr[low], arr[high] = arr[high], arr[low]\n",
    "            high -= 1\n",
    "            low += 1\n",
    "    return arr\n",
    "\n",
    "sort_number_zero_one_two([1,2,1,0,2,1,1,0])"
   ]
  },
  {
   "cell_type": "code",
   "execution_count": 13,
   "id": "4cec63d9",
   "metadata": {},
   "outputs": [
    {
     "data": {
      "text/plain": [
       "4"
      ]
     },
     "execution_count": 13,
     "metadata": {},
     "output_type": "execute_result"
    }
   ],
   "source": [
    "# Find the Majority Element that occurs more than N/2 times\n",
    "# Input Format:  N = 7, nums[] = {2,2,1,1,1,2,2}\n",
    "\n",
    "# Result: 2\n",
    "\n",
    "def majority_element(arr):\n",
    "    n = len(arr) // 2\n",
    "    \n",
    "    count = 1\n",
    "    element = arr[0]\n",
    "    \n",
    "    for i in range(1, len(arr)):\n",
    "        if count == 0:\n",
    "            count = 1\n",
    "            element = arr[i]\n",
    "            \n",
    "        elif arr[i] == element:\n",
    "            count += 1\n",
    "            \n",
    "        else:\n",
    "            count -= 1\n",
    "    return element\n",
    "\n",
    "majority_element([4,4,2,4,3,4,4,3,2,4])           "
   ]
  },
  {
   "cell_type": "code",
   "execution_count": 10,
   "id": "e392b346",
   "metadata": {},
   "outputs": [
    {
     "data": {
      "text/plain": [
       "(10, [4, -1, -2, 1, 5, 3])"
      ]
     },
     "execution_count": 10,
     "metadata": {},
     "output_type": "execute_result"
    }
   ],
   "source": [
    "# Kadane’s Algorithm : Maximum Subarray Sum in an Array\n",
    "import sys\n",
    "\n",
    "def kadanes_algorithm_max_subarray_sum(arr):\n",
    "    max_ = -sys.maxsize-1\n",
    "    sum_ = 0\n",
    "    start_index = -1\n",
    "    end_index = -1\n",
    "    \n",
    "    for i in range(0, len(arr)):\n",
    "        if sum_ == 0:\n",
    "            start_index = i\n",
    "            \n",
    "        sum_ += arr[i]\n",
    "        \n",
    "        if sum_ < 0:\n",
    "            sum_ = 0\n",
    "        \n",
    "        if sum_ > max_:\n",
    "            max_ = sum_\n",
    "            end_index = i\n",
    "            \n",
    "    if max_ < 0: \n",
    "        max_ = 0\n",
    "    return max_, arr[start_index: end_index+1]\n",
    "\n",
    "# kadanes_algorithm_max_subarray_sum([-2,1,-3,4,-1,2,1,-5,4])\n",
    "kadanes_algorithm_max_subarray_sum([-2,-3,4,-1,-2,1,5,3])\n",
    "# kadanes_algorithm_max_subarray_sum([-2,-3,-4,-1,-2,-1,-5,-3])\n"
   ]
  },
  {
   "cell_type": "code",
   "execution_count": 24,
   "id": "23809e3e",
   "metadata": {},
   "outputs": [
    {
     "data": {
      "text/plain": [
       "23"
      ]
     },
     "execution_count": 24,
     "metadata": {},
     "output_type": "execute_result"
    }
   ],
   "source": [
    "# Stock Buy And Sell\n",
    "\n",
    "def stock_buy_sell(arr):\n",
    "    mini = float('inf')\n",
    "    profit = 0\n",
    "    \n",
    "    for i in range(len(arr)):\n",
    "#         similar code below : at 1\n",
    "#         method 2:\n",
    "#         minPrice = min(mini, arr[i])\n",
    "#         maxPro = max(profit, arr[i] - mini)\n",
    "\n",
    "\n",
    "#        method  1:\n",
    "        if arr[i] < mini:\n",
    "            mini = arr[i]\n",
    "            \n",
    "        if profit < arr[i]- mini:\n",
    "            profit = arr[i] - mini\n",
    "        \n",
    "    return profit\n",
    "\n",
    "stock_buy_sell([7,2,25,5,1,3,6,4])"
   ]
  },
  {
   "cell_type": "code",
   "execution_count": 41,
   "id": "1e9bea56",
   "metadata": {},
   "outputs": [
    {
     "data": {
      "text/plain": [
       "[1, -4, 2, -5, 2, -9, 88, -3, 5, 3, 2, 1]"
      ]
     },
     "execution_count": 41,
     "metadata": {},
     "output_type": "execute_result"
    }
   ],
   "source": [
    "# Rearrange Array Elements by Sign\n",
    "\n",
    "# Input:\n",
    "# arr[] = {1,2,-4,-5}, N = 4\n",
    "# Output:\n",
    "# 1 -4 2 -5\n",
    "\n",
    "# assuming no of positives and no of negetives are equal in numbers\n",
    "def rearrange_array(arr):\n",
    "    neg = 1\n",
    "    pos = 0\n",
    "    ans = [0] * len(arr)\n",
    "    print(ans)\n",
    "    \n",
    "    for i in range(len(arr)):\n",
    "        if arr[i] < 0:\n",
    "            ans[neg] = arr[i]\n",
    "            neg += 2\n",
    "        else:\n",
    "            ans[pos] = arr[i]\n",
    "            pos += 2\n",
    "    return ans\n",
    "\n",
    "# in case if we have unequal number of positives and negetives, then\n",
    "def rearrange_array_brute_force(arr):\n",
    "    pos = []\n",
    "    neg = []\n",
    "    \n",
    "    for i in arr:\n",
    "        if i < 0 :\n",
    "            neg.append(i)\n",
    "        else:\n",
    "            pos.append(i)\n",
    "    \n",
    "    if len(pos) > len(neg):\n",
    "        for i in range(len(neg)):\n",
    "            arr[i * 2] = pos[i]\n",
    "            arr[i * 2 + 1] = neg[i]\n",
    "        start = len(neg)*2\n",
    "        for j in range(len(neg), len(pos)):\n",
    "            arr[start] = pos[j]\n",
    "            start += 1\n",
    "    else:\n",
    "        for i in range(len(pos)):\n",
    "            arr[i * 2] = pos[i]\n",
    "            arr[i * 2 + 1] = neg[i]\n",
    "        start = len(pos)*2\n",
    "        for j in range(len(pos), len(neg)):\n",
    "            arr[start] = neg[j]\n",
    "            start += 1\n",
    "    return arr        \n",
    "# rearrange_array([1,2,-4,-5])\n",
    "rearrange_array_brute_force([1,2,-4,-5, -9,-3,2, 88,5,3,2,1])"
   ]
  },
  {
   "cell_type": "code",
   "execution_count": 3,
   "id": "ad94fad6",
   "metadata": {},
   "outputs": [
    {
     "data": {
      "text/plain": [
       "[4, 2, 1, 9]"
      ]
     },
     "execution_count": 3,
     "metadata": {},
     "output_type": "execute_result"
    }
   ],
   "source": [
    "# find the next permutation of the array\n",
    "\n",
    "def next_permutation(arr):\n",
    "    drop_in = -1\n",
    "    for i in range(len(arr)-2, 0, -1):\n",
    "        if arr[i] < arr[i + 1]:\n",
    "            drop_in = i\n",
    "            break\n",
    "    \n",
    "    min_index = 0\n",
    "    for i in range(len(arr)-1, drop_in, -1):\n",
    "        if arr[i] > arr[drop_in]:\n",
    "            min_index = i\n",
    "            break\n",
    "    \n",
    "    arr[drop_in], arr[min_index] = arr[min_index], arr[drop_in]\n",
    "    \n",
    "    point_l = drop_in+1\n",
    "    point_r = len(arr)-1\n",
    "    \n",
    "    while point_l < point_r:\n",
    "        arr[point_l], arr[point_r] = arr[point_r], arr[point_l]\n",
    "        point_r -= 1\n",
    "        point_l += 1\n",
    "    return arr\n",
    "\n",
    "\n",
    "# next_permutation([2,1,5,4,3,0,0])      \n",
    "next_permutation([4,1,9,2])      "
   ]
  },
  {
   "cell_type": "code",
   "execution_count": 7,
   "id": "81c6313f",
   "metadata": {},
   "outputs": [
    {
     "data": {
      "text/plain": [
       "[6, 12, 22]"
      ]
     },
     "execution_count": 7,
     "metadata": {},
     "output_type": "execute_result"
    }
   ],
   "source": [
    "# Leaders in an Array\n",
    "\n",
    "def leader_in_arr(arr):\n",
    "    lead = []\n",
    "    max_ = None\n",
    "    \n",
    "    for i in range(len(arr)-1, 0, -1):\n",
    "        if i == len(arr)-1:\n",
    "            max_ = arr[i]\n",
    "            lead.append(arr[i])\n",
    "        else:\n",
    "            if arr[i] > max_:\n",
    "                max_ = arr[i]\n",
    "                lead.append(arr[i])\n",
    "                \n",
    "    return lead\n",
    "\n",
    "leader_in_arr([10, 22, 12, 3, 0, 6])"
   ]
  },
  {
   "cell_type": "code",
   "execution_count": 3,
   "id": "28334bf5",
   "metadata": {},
   "outputs": [
    {
     "name": "stdout",
     "output_type": "stream",
     "text": [
      "1 1 0 0\n",
      "2 4 0 1\n",
      "3 7 0 2\n",
      "5 5 1 1\n",
      "6 8 1 2\n",
      "9 9 2 2\n",
      "[1, 4, 7]\n",
      "[2, 5, 8]\n",
      "[3, 6, 9]\n"
     ]
    }
   ],
   "source": [
    "arr = [[1,2,3],\n",
    "       [4,5,6],\n",
    "       [7,8,9]]\n",
    "\n",
    "# Transpose of matrix\n",
    "for i in range(len(arr)):\n",
    "    for j in range(i,len(arr[0])):\n",
    "        print(arr[i][j],arr[j][i], i, j)\n",
    "        arr[i][j], arr[j][i] = arr[j][i], arr[i][j]\n",
    "            \n",
    "print(arr[0])\n",
    "print(arr[1])\n",
    "print(arr[2])"
   ]
  },
  {
   "cell_type": "code",
   "execution_count": 4,
   "id": "9fdaac8c",
   "metadata": {},
   "outputs": [
    {
     "name": "stdout",
     "output_type": "stream",
     "text": [
      "[0, 4, 7]\n",
      "[2, 0, 8]\n",
      "[3, 6, 0]\n"
     ]
    }
   ],
   "source": [
    "# make diagonal element zero\n",
    "\n",
    "for i in range(len(arr)):\n",
    "    for j in range(len(arr[0])):\n",
    "        if i==j:\n",
    "            arr[i][j] = 0\n",
    "print(arr[0])\n",
    "print(arr[1])\n",
    "print(arr[2])"
   ]
  },
  {
   "cell_type": "code",
   "execution_count": 19,
   "id": "d533960d",
   "metadata": {},
   "outputs": [
    {
     "data": {
      "text/plain": [
       "10"
      ]
     },
     "execution_count": 19,
     "metadata": {},
     "output_type": "execute_result"
    }
   ],
   "source": [
    "# Longest Consecutive Sequence in an Array\n",
    "\n",
    "# approach 1 : in case if allowed to distortion of array\n",
    "def longest_sequence_1(arr):\n",
    "    arr.sort()\n",
    "    count = 1\n",
    "    max_count = 0\n",
    "\n",
    "    for i in range(len(arr)-1):\n",
    "        if arr[i+1] == arr[i]+1:\n",
    "            count += 1\n",
    "        else:\n",
    "            if max_count < count:\n",
    "                max_count = count\n",
    "            count = 1\n",
    "    \n",
    "    return max_count\n",
    "\n",
    "\n",
    "# approach 2 : without distorting the array\n",
    "def longest_sequence_2(arr):\n",
    "    max_length = 0\n",
    "    new_set = set(i for i in arr)\n",
    "    \n",
    "    for i in new_set:\n",
    "        if i-1 not in new_set:\n",
    "            count = 1\n",
    "            current = i\n",
    "            \n",
    "            while current+1 in new_set:\n",
    "                current += 1\n",
    "                count += 1\n",
    "            max_length = max(count, max_length)\n",
    "    \n",
    "    return max_length\n",
    "\n",
    "longest_sequence_2([200,101,102,103,104,105,100,2,1,4,3,1,5,6,7,8,9,10])"
   ]
  },
  {
   "cell_type": "code",
   "execution_count": 10,
   "id": "2bd6d159",
   "metadata": {},
   "outputs": [
    {
     "name": "stdout",
     "output_type": "stream",
     "text": [
      "4\n",
      "[0, 1, 1, 0]\n",
      "[1, 0, 1, 0]\n",
      "[0, 0, 0, 0]\n",
      "[1, 0, 0, 1]\n",
      "[0, 0, 0, 0]\n",
      "[1, 0, 0, 1]\n"
     ]
    }
   ],
   "source": [
    "# Set Matrix Zeros\n",
    "\n",
    "# approach 1\n",
    "def set_matrix_zero(arr):\n",
    "    print(len(arr))\n",
    "    row = [0] * len(arr)\n",
    "    col = [0] * len(arr)\n",
    "    \n",
    "    for i in range(len(arr)):\n",
    "        for j in range(len(arr[i])):\n",
    "            if arr[i][j] == 0:\n",
    "                col[i] = 1\n",
    "                row[j] = 1\n",
    "#     print(row)\n",
    "#     print(col)\n",
    "    \n",
    "    for i in range(len(arr)):\n",
    "        for j in range(len(arr[i])):\n",
    "            if row[j] == 1 or col[i] == 1:\n",
    "                arr[i][j] = 0\n",
    "    \n",
    "    for i in arr:\n",
    "        print(i)\n",
    "\n",
    "set_matrix_zero([[1,0,1,1],[1,1,1,1],[1,1,0,1],[1,1,1,1]])"
   ]
  },
  {
   "cell_type": "code",
   "execution_count": null,
   "id": "3e63ef5d",
   "metadata": {},
   "outputs": [],
   "source": []
  }
 ],
 "metadata": {
  "kernelspec": {
   "display_name": "Python 3 (ipykernel)",
   "language": "python",
   "name": "python3"
  },
  "language_info": {
   "codemirror_mode": {
    "name": "ipython",
    "version": 3
   },
   "file_extension": ".py",
   "mimetype": "text/x-python",
   "name": "python",
   "nbconvert_exporter": "python",
   "pygments_lexer": "ipython3",
   "version": "3.9.13"
  }
 },
 "nbformat": 4,
 "nbformat_minor": 5
}
