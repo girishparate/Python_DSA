{
 "cells": [
  {
   "cell_type": "markdown",
   "id": "668c2661",
   "metadata": {},
   "source": [
    "### Count digits"
   ]
  },
  {
   "cell_type": "code",
   "execution_count": 5,
   "id": "88d1da18",
   "metadata": {},
   "outputs": [
    {
     "name": "stdout",
     "output_type": "stream",
     "text": [
      "6\n"
     ]
    }
   ],
   "source": [
    "# method 1\n",
    "number = 123456\n",
    "count = 0 \n",
    "while number > 0:\n",
    "    number = number // 10\n",
    "    count +=1\n",
    "    \n",
    "print(count)"
   ]
  },
  {
   "cell_type": "code",
   "execution_count": 6,
   "id": "0015f868",
   "metadata": {},
   "outputs": [],
   "source": [
    "# method 2\n",
    "from math import log\n",
    "number = 123456\n",
    "count = log(number, 10) + 1\n",
    "print(count)\n",
    "# 10 is used as a base of the number as it gives u log of base 10 of the number"
   ]
  },
  {
   "cell_type": "code",
   "execution_count": 1,
   "id": "5f06d921",
   "metadata": {},
   "outputs": [
    {
     "name": "stdout",
     "output_type": "stream",
     "text": [
      "6\n"
     ]
    }
   ],
   "source": [
    "# method 3\n",
    "number = 123456\n",
    "number = str(number)\n",
    "print(len(number))"
   ]
  },
  {
   "cell_type": "markdown",
   "id": "6d2785b2",
   "metadata": {},
   "source": [
    "## Reverse the number"
   ]
  },
  {
   "cell_type": "code",
   "execution_count": 2,
   "id": "5b17cc50",
   "metadata": {},
   "outputs": [
    {
     "name": "stdout",
     "output_type": "stream",
     "text": [
      "54321\n"
     ]
    }
   ],
   "source": [
    "number = 12345\n",
    "reverse = 0\n",
    "while number != 0:\n",
    "    digit = number % 10\n",
    "    number = number // 10\n",
    "    reverse = reverse * 10 + digit\n",
    "    \n",
    "print(reverse)"
   ]
  },
  {
   "cell_type": "markdown",
   "id": "9a478238",
   "metadata": {},
   "source": [
    "## Palindrom number"
   ]
  },
  {
   "cell_type": "code",
   "execution_count": 4,
   "id": "a1d76108",
   "metadata": {},
   "outputs": [
    {
     "name": "stdout",
     "output_type": "stream",
     "text": [
      "True\n"
     ]
    }
   ],
   "source": [
    "# The number is palindrom when the reverse of the number is same as a given number\n",
    "# ex. 1) 121 == 121   2) 122 != 221\n",
    "\n",
    "number = 121\n",
    "reverse = 0\n",
    "temp = number\n",
    "\n",
    "while number != 0:\n",
    "    digit = number % 10\n",
    "    number = number // 10\n",
    "    reverse = reverse * 10 + digit\n",
    "    \n",
    "if reverse == temp:\n",
    "    print(True)\n",
    "else:\n",
    "    print(False)"
   ]
  },
  {
   "cell_type": "markdown",
   "id": "c1efec23",
   "metadata": {},
   "source": [
    "## Armstrong number"
   ]
  },
  {
   "cell_type": "code",
   "execution_count": 13,
   "id": "994970cb",
   "metadata": {},
   "outputs": [
    {
     "name": "stdout",
     "output_type": "stream",
     "text": [
      "False\n"
     ]
    }
   ],
   "source": [
    "# number is armstrong when the addition of each digit is equal to the given number.\n",
    "number = 1634\n",
    "temp = number\n",
    "armstrong = 0\n",
    "\n",
    "while number != 0:\n",
    "    digit = number % 10\n",
    "    number = number // 10\n",
    "    armstrong = armstrong + (digit**3)\n",
    "\n",
    "if temp == armstrong:\n",
    "    print(True)\n",
    "else:\n",
    "    print(False)"
   ]
  },
  {
   "cell_type": "code",
   "execution_count": null,
   "id": "46e02875",
   "metadata": {},
   "outputs": [],
   "source": []
  }
 ],
 "metadata": {
  "kernelspec": {
   "display_name": "Python 3 (ipykernel)",
   "language": "python",
   "name": "python3"
  },
  "language_info": {
   "codemirror_mode": {
    "name": "ipython",
    "version": 3
   },
   "file_extension": ".py",
   "mimetype": "text/x-python",
   "name": "python",
   "nbconvert_exporter": "python",
   "pygments_lexer": "ipython3",
   "version": "3.9.13"
  }
 },
 "nbformat": 4,
 "nbformat_minor": 5
}
