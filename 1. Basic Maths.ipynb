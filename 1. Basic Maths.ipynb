{
 "cells": [
  {
   "cell_type": "markdown",
   "id": "668c2661",
   "metadata": {},
   "source": [
    "### Count digits"
   ]
  },
  {
   "cell_type": "code",
   "execution_count": 5,
   "id": "88d1da18",
   "metadata": {},
   "outputs": [
    {
     "name": "stdout",
     "output_type": "stream",
     "text": [
      "6\n"
     ]
    }
   ],
   "source": [
    "# method 1\n",
    "number = 123456\n",
    "count = 0 \n",
    "while number > 0:\n",
    "    number = number // 10\n",
    "    count +=1\n",
    "    \n",
    "print(count)"
   ]
  },
  {
   "cell_type": "code",
   "execution_count": 6,
   "id": "0015f868",
   "metadata": {},
   "outputs": [],
   "source": [
    "# method 2\n",
    "from math import log\n",
    "number = 123456\n",
    "count = log(number, 10) + 1\n",
    "print(count)\n",
    "# 10 is used as a base of the number as it gives u log of base 10 of the number"
   ]
  },
  {
   "cell_type": "code",
   "execution_count": 1,
   "id": "5f06d921",
   "metadata": {},
   "outputs": [
    {
     "name": "stdout",
     "output_type": "stream",
     "text": [
      "6\n"
     ]
    }
   ],
   "source": [
    "# method 3\n",
    "number = 123456\n",
    "number = str(number)\n",
    "print(len(number))"
   ]
  },
  {
   "cell_type": "markdown",
   "id": "59f2c8cc",
   "metadata": {},
   "source": [
    "## Reverse the number"
   ]
  },
  {
   "cell_type": "code",
   "execution_count": 2,
   "id": "c754dd8f",
   "metadata": {},
   "outputs": [
    {
     "name": "stdout",
     "output_type": "stream",
     "text": [
      "54321\n"
     ]
    }
   ],
   "source": [
    "number = 12345\n",
    "reverse = 0\n",
    "while number != 0:\n",
    "    digit = number % 10\n",
    "    number = number // 10\n",
    "    reverse = reverse * 10 + digit\n",
    "    \n",
    "print(reverse)"
   ]
  },
  {
   "cell_type": "markdown",
   "id": "0627d12b",
   "metadata": {},
   "source": [
    "## Palindrom number"
   ]
  },
  {
   "cell_type": "code",
   "execution_count": 4,
   "id": "0ed0a3f7",
   "metadata": {},
   "outputs": [
    {
     "name": "stdout",
     "output_type": "stream",
     "text": [
      "True\n"
     ]
    }
   ],
   "source": [
    "# The number is palindrom when the reverse of the number is same as a given number\n",
    "# ex. 1) 121 == 121   2) 122 != 221\n",
    "\n",
    "number = 121\n",
    "reverse = 0\n",
    "temp = number\n",
    "\n",
    "while number != 0:\n",
    "    digit = number % 10\n",
    "    number = number // 10\n",
    "    reverse = reverse * 10 + digit\n",
    "    \n",
    "if reverse == temp:\n",
    "    print(True)\n",
    "else:\n",
    "    print(False)"
   ]
  },
  {
   "cell_type": "markdown",
   "id": "4388f513",
   "metadata": {},
   "source": [
    "## Armstrong number"
   ]
  },
  {
   "cell_type": "code",
   "execution_count": 23,
   "id": "c2d44a90",
   "metadata": {},
   "outputs": [
    {
     "name": "stdout",
     "output_type": "stream",
     "text": [
      "True\n"
     ]
    }
   ],
   "source": [
    "# number is armstrong when the addition of each digit is equal to the given number.\n",
    "# ex. 1) 371 => pow(3,3) + pow(7,3) + pow(1,3) = 371\n",
    "\n",
    "number = 407\n",
    "temp = number\n",
    "armstrong = 0\n",
    "\n",
    "while number != 0:\n",
    "    digit = number % 10\n",
    "    number = number // 10\n",
    "    armstrong = armstrong + (digit**3)\n",
    "    \n",
    "if temp == armstrong:\n",
    "    print(True)\n",
    "else:\n",
    "    print(False)"
   ]
  },
  {
   "cell_type": "markdown",
   "id": "76b3d0ec",
   "metadata": {},
   "source": [
    "## Print all the divisors"
   ]
  },
  {
   "cell_type": "code",
   "execution_count": 25,
   "id": "f89c960f",
   "metadata": {},
   "outputs": [
    {
     "name": "stdout",
     "output_type": "stream",
     "text": [
      "1 2 3 4 6 9 12 18 36 "
     ]
    }
   ],
   "source": [
    "# method 1\n",
    "number = 36\n",
    "\n",
    "for i in range(1, number+1):\n",
    "    if number % i == 0:\n",
    "        print(i, end=' ')"
   ]
  },
  {
   "cell_type": "code",
   "execution_count": 53,
   "id": "dd3de31b",
   "metadata": {},
   "outputs": [],
   "source": [
    "# method 2\n",
    "import math\n",
    "number = 36\n",
    "list_1 = list()\n",
    "for i in range(1, int(math.sqrt(number))+1):\n",
    "    if number % i == 0:\n",
    "        list_1.append(i)\n",
    "        if number // i != i:\n",
    "            list_1.append(number // i)"
   ]
  },
  {
   "cell_type": "code",
   "execution_count": 54,
   "id": "e681d6e9",
   "metadata": {},
   "outputs": [
    {
     "data": {
      "text/plain": [
       "[1, 36, 2, 18, 3, 12, 4, 9, 6]"
      ]
     },
     "execution_count": 54,
     "metadata": {},
     "output_type": "execute_result"
    }
   ],
   "source": [
    "list_1"
   ]
  },
  {
   "cell_type": "markdown",
   "id": "337d4704",
   "metadata": {},
   "source": [
    "## Prime number"
   ]
  },
  {
   "cell_type": "code",
   "execution_count": 45,
   "id": "d73fbef9",
   "metadata": {},
   "outputs": [
    {
     "name": "stdout",
     "output_type": "stream",
     "text": [
      "Not a prime number\n"
     ]
    }
   ],
   "source": [
    "count = 0 \n",
    "number = 9\n",
    "\n",
    "for i in range(1, int(math.sqrt(number))+1):\n",
    "    if number % i == 0:\n",
    "        count += 1\n",
    "        if number // i != i:\n",
    "            count += 1\n",
    "if count == 2:\n",
    "    print(\"Prime number\")\n",
    "else:\n",
    "    print(\"Not a prime number\")"
   ]
  },
  {
   "cell_type": "markdown",
   "id": "3c18cb71",
   "metadata": {},
   "source": [
    "## GCD or HCF"
   ]
  },
  {
   "cell_type": "code",
   "execution_count": 55,
   "id": "9275bc1f",
   "metadata": {},
   "outputs": [
    {
     "name": "stdout",
     "output_type": "stream",
     "text": [
      "2\n"
     ]
    }
   ],
   "source": [
    "# method 1\n",
    "\n",
    "num1 = 52\n",
    "num2 = 10\n",
    "\n",
    "gcd = 0\n",
    "\n",
    "for i in range(1, min(52, 10)+1):\n",
    "    if num1 % i == 0 and num2 % i == 0:\n",
    "        gcd = i\n",
    "        \n",
    "print(gcd)"
   ]
  },
  {
   "cell_type": "code",
   "execution_count": 56,
   "id": "5175ef94",
   "metadata": {},
   "outputs": [
    {
     "name": "stdout",
     "output_type": "stream",
     "text": [
      "2\n"
     ]
    }
   ],
   "source": [
    "# method 2 \n",
    "# gcd(a,b) = gcd((a-b), b) while a > b\n",
    "\n",
    "num1 = 52\n",
    "num2 = 10\n",
    "\n",
    "while num1 > 0 and num2 > 0:\n",
    "    if num1 > num2:\n",
    "        num1 = num1 % num2\n",
    "    else:\n",
    "        num2 = num2 % num1\n",
    "    \n",
    "if num1 == 0:\n",
    "    print(num2)\n",
    "else:\n",
    "    print(num1)"
   ]
  },
  {
   "cell_type": "code",
   "execution_count": null,
   "id": "32d49366",
   "metadata": {},
   "outputs": [],
   "source": []
  }
 ],
 "metadata": {
  "kernelspec": {
   "display_name": "Python 3 (ipykernel)",
   "language": "python",
   "name": "python3"
  },
  "language_info": {
   "codemirror_mode": {
    "name": "ipython",
    "version": 3
   },
   "file_extension": ".py",
   "mimetype": "text/x-python",
   "name": "python",
   "nbconvert_exporter": "python",
   "pygments_lexer": "ipython3",
   "version": "3.9.13"
  }
 },
 "nbformat": 4,
 "nbformat_minor": 5
}
