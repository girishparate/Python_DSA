{
 "cells": [
  {
   "cell_type": "code",
   "execution_count": 1,
   "id": "24e0e186",
   "metadata": {},
   "outputs": [
    {
     "name": "stdout",
     "output_type": "stream",
     "text": [
      "0\n",
      "1\n",
      "2\n",
      "3\n",
      "prented\n"
     ]
    }
   ],
   "source": [
    "cnt = 0\n",
    "def fu(cnt):\n",
    "    if cnt == 4:\n",
    "        print(\"prented\")\n",
    "        return\n",
    "    print(cnt)\n",
    "    cnt += 1\n",
    "    fu(cnt)\n",
    "    \n",
    "fu(cnt)"
   ]
  },
  {
   "cell_type": "markdown",
   "id": "55e12e30",
   "metadata": {},
   "source": [
    "## Print name N times using recursion"
   ]
  },
  {
   "cell_type": "code",
   "execution_count": 2,
   "id": "8bd8c7ab",
   "metadata": {},
   "outputs": [
    {
     "name": "stdout",
     "output_type": "stream",
     "text": [
      "Girish Parate\n",
      "Girish Parate\n",
      "Girish Parate\n",
      "Girish Parate\n",
      "Girish Parate\n",
      "Girish Parate\n",
      "Girish Parate\n",
      "Girish Parate\n",
      "Girish Parate\n",
      "Girish Parate\n"
     ]
    }
   ],
   "source": [
    "name = \"Girish Parate\"\n",
    "NOT = 10\n",
    "cnt = 0\n",
    "\n",
    "def name_recursion(cnt):\n",
    "    if cnt == NOT:\n",
    "        return\n",
    "    print(name)\n",
    "#     cnt += 1\n",
    "    name_recursion(cnt+1)\n",
    "\n",
    "name_recursion(cnt)\n"
   ]
  },
  {
   "cell_type": "markdown",
   "id": "7a4e58c2",
   "metadata": {},
   "source": [
    "## Print 1 to N with recursion"
   ]
  },
  {
   "cell_type": "code",
   "execution_count": 3,
   "id": "52d2c1cd",
   "metadata": {},
   "outputs": [
    {
     "name": "stdout",
     "output_type": "stream",
     "text": [
      "1\n",
      "2\n",
      "3\n",
      "4\n",
      "5\n",
      "6\n",
      "7\n",
      "8\n",
      "9\n",
      "10\n"
     ]
    }
   ],
   "source": [
    "n = 10\n",
    "i = 1\n",
    "\n",
    "def print_int(i):\n",
    "    if i == n+1:\n",
    "        return\n",
    "    print(i)\n",
    "    print_int(i+1)\n",
    "print_int(i)"
   ]
  },
  {
   "cell_type": "markdown",
   "id": "56ba158a",
   "metadata": {},
   "source": [
    "## Print N to 1"
   ]
  },
  {
   "cell_type": "code",
   "execution_count": 4,
   "id": "976acc60",
   "metadata": {},
   "outputs": [
    {
     "name": "stdout",
     "output_type": "stream",
     "text": [
      "10\n",
      "9\n",
      "8\n",
      "7\n",
      "6\n",
      "5\n",
      "4\n",
      "3\n",
      "2\n",
      "1\n"
     ]
    }
   ],
   "source": [
    "n = 10\n",
    "i = 1\n",
    "\n",
    "def print_int(num):\n",
    "    if num == i-1:\n",
    "        return\n",
    "    print(num)\n",
    "    print_int(num-1)\n",
    "print_int(n)"
   ]
  },
  {
   "cell_type": "markdown",
   "id": "7360d58e",
   "metadata": {},
   "source": [
    "## Print 1 to N with backtracking "
   ]
  },
  {
   "cell_type": "code",
   "execution_count": 5,
   "id": "db12623d",
   "metadata": {},
   "outputs": [
    {
     "name": "stdout",
     "output_type": "stream",
     "text": [
      "1\n",
      "2\n",
      "3\n",
      "4\n",
      "5\n",
      "6\n",
      "7\n",
      "8\n",
      "9\n",
      "10\n"
     ]
    }
   ],
   "source": [
    "# backtracking is when you wait for the function call to be executed\n",
    "# and after that you perform action\n",
    "# in below example, we are first executing / calling function and after meeting the condition it will return \n",
    "# after return statement / condition, it will go back and print the i, \n",
    "n = 10\n",
    "\n",
    "def print_int(i, num):\n",
    "    if i < 1:\n",
    "        return\n",
    "    print_int(i-1, num)\n",
    "    print(i)\n",
    "\n",
    "print_int(n, n)"
   ]
  },
  {
   "cell_type": "markdown",
   "id": "1cdf8598",
   "metadata": {},
   "source": [
    "## Print N to 1 using backtracking"
   ]
  },
  {
   "cell_type": "code",
   "execution_count": 6,
   "id": "5a7082f2",
   "metadata": {},
   "outputs": [
    {
     "name": "stdout",
     "output_type": "stream",
     "text": [
      "3\n",
      "2\n",
      "1\n"
     ]
    }
   ],
   "source": [
    "n = 3\n",
    "\n",
    "def print_int(i):\n",
    "    if i > n:\n",
    "        return\n",
    "    print_int(i+1)\n",
    "    print(i)\n",
    "    \n",
    "print_int(1)"
   ]
  },
  {
   "cell_type": "markdown",
   "id": "f83374d3",
   "metadata": {},
   "source": [
    "## Sum of n numbers using recursion "
   ]
  },
  {
   "cell_type": "code",
   "execution_count": 12,
   "id": "f033f2b4",
   "metadata": {},
   "outputs": [
    {
     "name": "stdout",
     "output_type": "stream",
     "text": [
      "6\n"
     ]
    }
   ],
   "source": [
    "# method 1 : simple method with parameterized way\n",
    "n = 3\n",
    "\n",
    "def sum_num(i, summ):\n",
    "    if i == 0:\n",
    "        print(summ)\n",
    "        return\n",
    "    sum_num(i-1, summ+i)\n",
    "\n",
    "sum_num(n,0)"
   ]
  },
  {
   "cell_type": "code",
   "execution_count": 2,
   "id": "a6802992",
   "metadata": {},
   "outputs": [
    {
     "data": {
      "text/plain": [
       "6"
      ]
     },
     "execution_count": 2,
     "metadata": {},
     "output_type": "execute_result"
    }
   ],
   "source": [
    "# method 2 : functional way\n",
    "\n",
    "n = 3\n",
    "def sum_num(n):\n",
    "    if n == 0:\n",
    "        return 0\n",
    "    return n + sum_num(n - 1)\n",
    "sum_num(n)"
   ]
  },
  {
   "cell_type": "markdown",
   "id": "7fd4864e",
   "metadata": {},
   "source": [
    "## Factorial of a N numbers using recursion"
   ]
  },
  {
   "cell_type": "code",
   "execution_count": 2,
   "id": "0e453a52",
   "metadata": {},
   "outputs": [
    {
     "name": "stdout",
     "output_type": "stream",
     "text": [
      "120\n"
     ]
    }
   ],
   "source": [
    "# method 1: parameterized way\n",
    "\n",
    "n = 5\n",
    "factorial = 1\n",
    "\n",
    "def fact(n, factorial):\n",
    "    if n < 1:\n",
    "        print(factorial)\n",
    "        return\n",
    "    fact(n-1, factorial*n)\n",
    "    \n",
    "fact(n, factorial) "
   ]
  },
  {
   "cell_type": "code",
   "execution_count": 6,
   "id": "aa7d9c26",
   "metadata": {},
   "outputs": [
    {
     "data": {
      "text/plain": [
       "120"
      ]
     },
     "execution_count": 6,
     "metadata": {},
     "output_type": "execute_result"
    }
   ],
   "source": [
    "# method 2 : functional way\n",
    "\n",
    "n = 5\n",
    "\n",
    "def fact(n):\n",
    "    if n < 1:\n",
    "        return 1\n",
    "    return n * fact(n-1)\n",
    "\n",
    "fact(n)"
   ]
  },
  {
   "cell_type": "markdown",
   "id": "53a0b36f",
   "metadata": {},
   "source": [
    "## reverse the array "
   ]
  },
  {
   "cell_type": "code",
   "execution_count": 12,
   "id": "cd5e83c1",
   "metadata": {},
   "outputs": [
    {
     "name": "stdout",
     "output_type": "stream",
     "text": [
      "[6, 5, 4, 3, 2, 1]\n"
     ]
    }
   ],
   "source": [
    "# method 1 : using recursion\n",
    "arr = [1,2,3,4,5,6]\n",
    "\n",
    "def reverse_array(i_srt, i_end):\n",
    "    if i_end < i_srt:\n",
    "        print(arr)\n",
    "        return\n",
    "    arr[i_srt], arr[i_end] = arr[i_end], arr[i_srt]\n",
    "    reverse_array(i_srt+1, i_end-1)\n",
    "\n",
    "reverse_array(0, len(arr)-1)\n",
    "    "
   ]
  },
  {
   "cell_type": "code",
   "execution_count": 6,
   "id": "04ed8b67",
   "metadata": {},
   "outputs": [
    {
     "name": "stdout",
     "output_type": "stream",
     "text": [
      "[5, 4, 3, 2, 1]\n"
     ]
    }
   ],
   "source": [
    "# method 2\n",
    "\n",
    "arr = [1,2,3,4,5]\n",
    "\n",
    "def reverse_array(i_srt, i_end):\n",
    "    if i_end <= i_srt:\n",
    "        print(arr)\n",
    "        return\n",
    "    arr[i_srt], arr[i_end] = arr[i_end], arr[i_srt]\n",
    "    reverse_array(i_srt+1, i_end-i_srt-1)           \n",
    "    \n",
    "reverse_array(0, len(arr)-1)"
   ]
  },
  {
   "cell_type": "markdown",
   "id": "b184b06a",
   "metadata": {},
   "source": [
    "## Check if string is palindrome or not using recursion"
   ]
  },
  {
   "cell_type": "code",
   "execution_count": 9,
   "id": "0ecf8621",
   "metadata": {},
   "outputs": [
    {
     "data": {
      "text/plain": [
       "False"
      ]
     },
     "execution_count": 9,
     "metadata": {},
     "output_type": "execute_result"
    }
   ],
   "source": [
    "string = \"MADM\"\n",
    "\n",
    "def is_palindrome(i, n):\n",
    "    if n <= i:\n",
    "        return True\n",
    "    if string[i] != string[n]:\n",
    "        return False\n",
    "    return is_palindrome(i+1, n-i-1)\n",
    "\n",
    "is_palindrome(0, len(string)-1)"
   ]
  },
  {
   "cell_type": "markdown",
   "id": "308066ea",
   "metadata": {},
   "source": [
    "## Write Nth term in the Fibonacci Series"
   ]
  },
  {
   "cell_type": "code",
   "execution_count": 16,
   "id": "7b0f132d",
   "metadata": {},
   "outputs": [
    {
     "data": {
      "text/plain": [
       "8"
      ]
     },
     "execution_count": 16,
     "metadata": {},
     "output_type": "execute_result"
    }
   ],
   "source": [
    "n = 6\n",
    "\n",
    "def n_fibo(i):\n",
    "    if i <= 1:\n",
    "        return i\n",
    "    last_fib = n_fibo(i-1)\n",
    "    s_last_fib = n_fibo(i-2)\n",
    "    return last_fib + s_last_fib\n",
    "\n",
    "n_fibo(n)"
   ]
  },
  {
   "cell_type": "code",
   "execution_count": null,
   "id": "92c4494c",
   "metadata": {},
   "outputs": [],
   "source": []
  }
 ],
 "metadata": {
  "kernelspec": {
   "display_name": "Python 3 (ipykernel)",
   "language": "python",
   "name": "python3"
  },
  "language_info": {
   "codemirror_mode": {
    "name": "ipython",
    "version": 3
   },
   "file_extension": ".py",
   "mimetype": "text/x-python",
   "name": "python",
   "nbconvert_exporter": "python",
   "pygments_lexer": "ipython3",
   "version": "3.9.13"
  }
 },
 "nbformat": 4,
 "nbformat_minor": 5
}
