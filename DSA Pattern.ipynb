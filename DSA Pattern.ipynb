{
 "cells": [
  {
   "cell_type": "code",
   "execution_count": 59,
   "id": "c45f645f",
   "metadata": {},
   "outputs": [],
   "source": [
    "n =4\n",
    "m=4"
   ]
  },
  {
   "cell_type": "code",
   "execution_count": 66,
   "id": "1df9f527",
   "metadata": {},
   "outputs": [
    {
     "name": "stdout",
     "output_type": "stream",
     "text": [
      "**  \n",
      "*   \n",
      "****\n",
      "*** \n"
     ]
    }
   ],
   "source": [
    "for i in range(0,n):\n",
    "    for j in range(0,m):\n",
    "        if j > 0 and i == 1:\n",
    "            print(\" \", end='')\n",
    "        elif j >1 and i == 0:\n",
    "            print(\" \", end='')\n",
    "        elif j >2 and i ==3:\n",
    "            print(\" \", end='')\n",
    "        else:\n",
    "            print(\"*\", end='')\n",
    "    print()\n"
   ]
  },
  {
   "cell_type": "code",
   "execution_count": 64,
   "id": "165016f8",
   "metadata": {},
   "outputs": [
    {
     "name": "stdout",
     "output_type": "stream",
     "text": [
      "*\n",
      "**\n",
      "***\n",
      "****\n"
     ]
    }
   ],
   "source": [
    "for i in range(0,n):\n",
    "    for j in range(0,i+1):\n",
    "        print(\"*\", end='')\n",
    "    print()"
   ]
  },
  {
   "cell_type": "code",
   "execution_count": 33,
   "id": "465e26bc",
   "metadata": {},
   "outputs": [
    {
     "name": "stdout",
     "output_type": "stream",
     "text": [
      "1\n",
      "12\n"
     ]
    }
   ],
   "source": [
    "for i in range(0,n):\n",
    "    for j in range(0,i+1):\n",
    "        print(j+1, end='')\n",
    "    print()"
   ]
  },
  {
   "cell_type": "code",
   "execution_count": 5,
   "id": "f86cb111",
   "metadata": {},
   "outputs": [
    {
     "name": "stdout",
     "output_type": "stream",
     "text": [
      "1\n",
      "22\n"
     ]
    }
   ],
   "source": [
    "for i in range(0,n):\n",
    "    for j in range(0,i+1):\n",
    "        print(i+1, end='')\n",
    "    print()"
   ]
  },
  {
   "cell_type": "code",
   "execution_count": 6,
   "id": "00b9486e",
   "metadata": {},
   "outputs": [
    {
     "name": "stdout",
     "output_type": "stream",
     "text": [
      "**\n",
      "*\n"
     ]
    }
   ],
   "source": [
    "for i in range(0,n):\n",
    "    for j in range(0, n-i):\n",
    "        print(\"*\", end='')\n",
    "    print()"
   ]
  },
  {
   "cell_type": "code",
   "execution_count": 7,
   "id": "72ac545d",
   "metadata": {},
   "outputs": [
    {
     "name": "stdout",
     "output_type": "stream",
     "text": [
      "12\n",
      "1\n"
     ]
    }
   ],
   "source": [
    "for i in range(0,n):\n",
    "    for j in range(0, n-i):\n",
    "        print(j+1, end='')\n",
    "    print()"
   ]
  },
  {
   "cell_type": "code",
   "execution_count": 8,
   "id": "63a57930",
   "metadata": {},
   "outputs": [
    {
     "name": "stdout",
     "output_type": "stream",
     "text": [
      "  \n",
      " *\n",
      "***\n"
     ]
    }
   ],
   "source": [
    "for i in range(0,n+1):\n",
    "    print((n-i)*\" \", end='')\n",
    "    print((i*2-1)*\"*\", end='')\n",
    "    print()\n"
   ]
  },
  {
   "cell_type": "code",
   "execution_count": 9,
   "id": "9ec2e2e8",
   "metadata": {},
   "outputs": [
    {
     "name": "stdout",
     "output_type": "stream",
     "text": [
      "***\n",
      " *\n",
      "  \n"
     ]
    }
   ],
   "source": [
    "for i in range(0, n+1):\n",
    "    print(i*\" \", end='')\n",
    "    print((2*(n-i)-1)*\"*\", end='')\n",
    "    print()\n"
   ]
  },
  {
   "cell_type": "code",
   "execution_count": 10,
   "id": "135cab30",
   "metadata": {},
   "outputs": [
    {
     "name": "stdout",
     "output_type": "stream",
     "text": [
      "         *\n",
      "        ***\n",
      "       *****\n",
      "      *******\n",
      "     *********\n",
      "      *******\n",
      "       *****\n",
      "        ***\n",
      "         *\n"
     ]
    }
   ],
   "source": [
    "n =10\n",
    "for i in range(1, n):\n",
    "    if i <= n/2:\n",
    "            print((n-i)*\" \", end='')\n",
    "            print((i*2-1)*\"*\", end='')\n",
    "            print()\n",
    "    else:\n",
    "            print(i*\" \", end='')\n",
    "            print((2*(n-i)-1)*\"*\", end='')\n",
    "            print()"
   ]
  },
  {
   "cell_type": "code",
   "execution_count": 11,
   "id": "1bdb7e72",
   "metadata": {},
   "outputs": [
    {
     "name": "stdout",
     "output_type": "stream",
     "text": [
      "*\n",
      "**\n",
      "***\n",
      "****\n",
      "*****\n",
      "******\n",
      "***** \n",
      "**** \n",
      "*** \n",
      "** \n",
      "* \n"
     ]
    }
   ],
   "source": [
    "for i in range(0, n+1):\n",
    "    for j in range(0,i+1):\n",
    "        if i <= 5:\n",
    "            print(\"*\", end='')\n",
    "        else:\n",
    "            print_str = n - i + 1\n",
    "            print(print_str*\"*\", end=' ')\n",
    "            break\n",
    "    print()"
   ]
  },
  {
   "cell_type": "code",
   "execution_count": 12,
   "id": "89944dee",
   "metadata": {},
   "outputs": [
    {
     "name": "stdout",
     "output_type": "stream",
     "text": [
      "\n",
      "1\n",
      "10\n",
      "101\n",
      "1010\n",
      "10101\n"
     ]
    }
   ],
   "source": [
    "for i in range(1, 7):\n",
    "    for j in range(1, i):\n",
    "        if j % 2 == 0:    \n",
    "            print(0, end='')\n",
    "        else:\n",
    "            print(1, end='')\n",
    "    print()"
   ]
  },
  {
   "cell_type": "code",
   "execution_count": 13,
   "id": "059d6f47",
   "metadata": {
    "scrolled": false
   },
   "outputs": [
    {
     "name": "stdout",
     "output_type": "stream",
     "text": [
      "1      1\n",
      "12    21\n",
      "123  321\n",
      "12344321\n"
     ]
    }
   ],
   "source": [
    "n = 4\n",
    "space = 2*(n-1)\n",
    "for i in range(1, n+1):\n",
    "    space = (n-i)*2\n",
    "    for j in range(1, i+1):        \n",
    "        print(j, end='')\n",
    "        \n",
    "    for j in range(space, 0, -1):\n",
    "        print(' ', end='')\n",
    "        \n",
    "    for j in range(i, 0, -1):\n",
    "        print(j, end='')\n",
    "         \n",
    "    print()    "
   ]
  },
  {
   "cell_type": "code",
   "execution_count": 14,
   "id": "57957b09",
   "metadata": {},
   "outputs": [
    {
     "name": "stdout",
     "output_type": "stream",
     "text": [
      "\n",
      "1\n",
      "23\n",
      "456\n",
      "78910\n",
      "1112131415\n"
     ]
    }
   ],
   "source": [
    "count = 1\n",
    "n = 5\n",
    "for i in range(0, n+1):\n",
    "    for j in range(0, i):\n",
    "        print(count, end='')\n",
    "        count += 1\n",
    "    print()"
   ]
  },
  {
   "cell_type": "code",
   "execution_count": 15,
   "id": "297ae3e1",
   "metadata": {},
   "outputs": [
    {
     "name": "stdout",
     "output_type": "stream",
     "text": [
      "\n",
      "A\n",
      "AB\n",
      "ABC\n",
      "ABCD\n",
      "ABCDE\n"
     ]
    }
   ],
   "source": [
    "for i in range(0, n+1):\n",
    "    for j in range(0, i):\n",
    "        print(chr(65+j), end='')\n",
    "    print()"
   ]
  },
  {
   "cell_type": "code",
   "execution_count": 16,
   "id": "0a5beb93",
   "metadata": {},
   "outputs": [
    {
     "name": "stdout",
     "output_type": "stream",
     "text": [
      "ABCDE\n",
      "ABCD\n",
      "ABC\n",
      "AB\n",
      "A\n",
      "\n"
     ]
    }
   ],
   "source": [
    "for i in range(0, n+1):\n",
    "    for j in range(0, n-i):\n",
    "        print(chr(65+j), end='')\n",
    "    print()"
   ]
  },
  {
   "cell_type": "code",
   "execution_count": 17,
   "id": "26de38b6",
   "metadata": {},
   "outputs": [
    {
     "name": "stdout",
     "output_type": "stream",
     "text": [
      "\n",
      "A\n",
      "BB\n",
      "CCC\n",
      "DDDD\n",
      "EEEEE\n"
     ]
    }
   ],
   "source": [
    "for i in range(0, n+1):\n",
    "    for j in range(0, i):\n",
    "        print(chr(64+i), end='')\n",
    "    print()"
   ]
  },
  {
   "cell_type": "code",
   "execution_count": 18,
   "id": "547e28bf",
   "metadata": {},
   "outputs": [
    {
     "name": "stdout",
     "output_type": "stream",
     "text": [
      "    *    \n",
      "   ***   \n",
      "  *****  \n",
      " ******* \n",
      "*********\n"
     ]
    }
   ],
   "source": [
    "for i in range(1, n+1):\n",
    "    for j in range(n-i, 0, -1):\n",
    "        print(' ', end='')\n",
    "        \n",
    "    for j in range(0, (i*2)-1):\n",
    "        print('*', end='')\n",
    "        \n",
    "    for j in range(n-i, 0, -1):\n",
    "        print(' ', end='')\n",
    "    print()"
   ]
  },
  {
   "cell_type": "code",
   "execution_count": 19,
   "id": "1a567769",
   "metadata": {},
   "outputs": [
    {
     "name": "stdout",
     "output_type": "stream",
     "text": [
      "    A\n",
      "   ABA\n",
      "  ABCBA\n",
      " ABCDCBA\n",
      "ABCDEDCBA\n"
     ]
    }
   ],
   "source": [
    "for i in range(1, n+1):\n",
    "    for j in range(n-i, 0, -1):\n",
    "        print(' ', end='')\n",
    "        \n",
    "    for j in range(0, i):\n",
    "        print(chr(65+j), end='')\n",
    "        \n",
    "    for j in range(i-1, 0, -1):\n",
    "        print(chr(65+j-1), end='')\n",
    "    print()"
   ]
  },
  {
   "cell_type": "code",
   "execution_count": 20,
   "id": "98f3c221",
   "metadata": {},
   "outputs": [
    {
     "name": "stdout",
     "output_type": "stream",
     "text": [
      "    A\n",
      "   ABA\n",
      "  ABCBA\n",
      " ABCDCBA\n",
      "ABCDEDCBA\n"
     ]
    }
   ],
   "source": [
    "for i in range(0, n):\n",
    "    for j in range(n - i - 1):\n",
    "            print(\" \", end=\"\")\n",
    "        \n",
    "    # Print characters in ascending order\n",
    "    for j in range(i + 1):\n",
    "        print(chr(65 + j), end=\"\")\n",
    "\n",
    "    # Print characters in descending order (excluding the first character)\n",
    "    for j in range(i - 1, -1, -1):\n",
    "        print(chr(65 + j), end=\"\")\n",
    "\n",
    "    # Move to the next line for the next row\n",
    "    print()"
   ]
  },
  {
   "cell_type": "code",
   "execution_count": 21,
   "id": "224dffcf",
   "metadata": {},
   "outputs": [
    {
     "name": "stdout",
     "output_type": "stream",
     "text": [
      "E\n",
      "DE\n",
      "CDE\n",
      "BCDE\n",
      "ABCDE\n"
     ]
    }
   ],
   "source": [
    "for i in range(1, n+1):\n",
    "    for j in range(0, i):\n",
    "        print(chr(65+n-i+j), end='')\n",
    "    print()"
   ]
  },
  {
   "cell_type": "code",
   "execution_count": 22,
   "id": "f174a674",
   "metadata": {},
   "outputs": [
    {
     "name": "stdout",
     "output_type": "stream",
     "text": [
      "**********\n",
      "****  ****\n",
      "***    ***\n",
      "**      **\n",
      "*        *\n",
      "          \n",
      "*        *\n",
      "**      **\n",
      "***    ***\n",
      "****  ****\n",
      "**********\n"
     ]
    }
   ],
   "source": [
    "n = 5\n",
    "space_up = 0\n",
    "for i in range(0, n+1):\n",
    "    for j in range(n-i, 0, -1):\n",
    "        print(\"*\", end='')\n",
    "    for j in range(space_up):\n",
    "        print(\" \", end='')\n",
    "    for j in range(n-i, 0, -1):\n",
    "        print(\"*\", end='')\n",
    "    print()\n",
    "    space_up += 2\n",
    "    \n",
    "    \n",
    "space_down = 8\n",
    "for i in range(1, n+1):\n",
    "    for j in range(0, i):\n",
    "        print(\"*\", end='')\n",
    "    for j in range(space_down):\n",
    "        print(\" \", end='')\n",
    "    for j in range(0, i):\n",
    "        print(\"*\", end='')\n",
    "    print()\n",
    "    space_down -= 2\n",
    "    \n"
   ]
  },
  {
   "cell_type": "code",
   "execution_count": 23,
   "id": "ea8f85f7",
   "metadata": {},
   "outputs": [
    {
     "name": "stdout",
     "output_type": "stream",
     "text": [
      "*        *\n",
      "**      **\n",
      "***    ***\n",
      "****  ****\n",
      "**********\n",
      "****  ****\n",
      "***    ***\n",
      "**      **\n",
      "*        *\n",
      "          \n"
     ]
    }
   ],
   "source": [
    "n = 5 \n",
    "space = 8\n",
    "for i in range(1, n+1):\n",
    "    for j in range(i):\n",
    "        print(\"*\", end='')\n",
    "    for j in range(space):\n",
    "        print(\" \", end='')\n",
    "    for j in range(i):\n",
    "        print(\"*\", end='')\n",
    "    space -= 2\n",
    "    print()\n",
    "space = 2\n",
    "for i in range(1, n+1):\n",
    "    for j in range(n, i, -1):\n",
    "        print(\"*\", end='')\n",
    "    for j in range(space):\n",
    "        print(\" \", end='')\n",
    "    for j in range(n, i, -1):\n",
    "        print(\"*\", end='')\n",
    "    space += 2\n",
    "    print()"
   ]
  },
  {
   "cell_type": "code",
   "execution_count": 24,
   "id": "443c1e25",
   "metadata": {},
   "outputs": [
    {
     "name": "stdout",
     "output_type": "stream",
     "text": [
      "****\n",
      "*  *\n",
      "*  *\n",
      "****\n"
     ]
    }
   ],
   "source": [
    "n = 4\n",
    "for i in range(0, n):\n",
    "    for j in range(0, n):\n",
    "        if i == 0 or j == 0 or i == n-1 or j == n-1:\n",
    "            print(\"*\", end='')\n",
    "        else:\n",
    "            print(\" \", end='')\n",
    "    print()"
   ]
  },
  {
   "cell_type": "code",
   "execution_count": 25,
   "id": "25de210f",
   "metadata": {},
   "outputs": [
    {
     "name": "stdout",
     "output_type": "stream",
     "text": [
      "4444444\n",
      "4333334\n",
      "4322234\n",
      "4321234\n",
      "4322234\n",
      "4333334\n",
      "4444444\n"
     ]
    }
   ],
   "source": [
    "for i in range(2*n-1):\n",
    "    for j in range(2*n-1):\n",
    "        top = i\n",
    "        left = j\n",
    "        right = (2*n - 2)- j\n",
    "        down = (2*n - 2) - i\n",
    "        print(n - min(min(top, down), min(left, right)), end='')\n",
    "    print()"
   ]
  },
  {
   "cell_type": "code",
   "execution_count": null,
   "id": "1f26b8a0",
   "metadata": {},
   "outputs": [],
   "source": []
  }
 ],
 "metadata": {
  "kernelspec": {
   "display_name": "Python 3 (ipykernel)",
   "language": "python",
   "name": "python3"
  },
  "language_info": {
   "codemirror_mode": {
    "name": "ipython",
    "version": 3
   },
   "file_extension": ".py",
   "mimetype": "text/x-python",
   "name": "python",
   "nbconvert_exporter": "python",
   "pygments_lexer": "ipython3",
   "version": "3.9.13"
  }
 },
 "nbformat": 4,
 "nbformat_minor": 5
}
