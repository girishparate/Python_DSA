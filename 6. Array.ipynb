{
 "cells": [
  {
   "cell_type": "markdown",
   "id": "5f8c9a23",
   "metadata": {},
   "source": [
    "## Easy"
   ]
  },
  {
   "cell_type": "code",
   "execution_count": 2,
   "id": "16903c8c",
   "metadata": {},
   "outputs": [
    {
     "data": {
      "text/plain": [
       "8"
      ]
     },
     "execution_count": 2,
     "metadata": {},
     "output_type": "execute_result"
    }
   ],
   "source": [
    "# largest element in an Array\n",
    "li = [5,4,3,7,8,2,4,7,1]\n",
    "\n",
    "def findLargestElement(arr):\n",
    "    max_ele = arr[0]\n",
    "    for i in arr:\n",
    "        if max_ele < i:\n",
    "            max_ele = i\n",
    "    return max_ele\n",
    "findLargestElement(li)"
   ]
  },
  {
   "cell_type": "code",
   "execution_count": 20,
   "id": "a6816804",
   "metadata": {},
   "outputs": [
    {
     "name": "stdout",
     "output_type": "stream",
     "text": [
      "(7, 2)\n",
      "(7, 2)\n"
     ]
    }
   ],
   "source": [
    "# 2nd largest element in the array\n",
    "\n",
    "# approach 1\n",
    "def SecondLargestAndSecondSmallest1(arr):\n",
    "    largest = arr[0]\n",
    "    smallest = arr[0]\n",
    "    \n",
    "    for i in arr:\n",
    "        if i > largest:\n",
    "            largest = i\n",
    "        \n",
    "        if i < smallest:\n",
    "            smallest = i\n",
    "    sec_largest = arr[0]\n",
    "    sec_smallest = arr[0]\n",
    "    \n",
    "    for i in arr:\n",
    "        if i > sec_largest and i != largest:\n",
    "            sec_largest = i\n",
    "        if i < sec_smallest and i != smallest:\n",
    "            sec_smallest = i            \n",
    "    return (sec_largest, sec_smallest)\n",
    "\n",
    "def SecondLargestAndSecondSmallest2(arr):\n",
    "    largest1 = arr[0]\n",
    "    smallest1 = arr[0]\n",
    "    sec_smallest1 = arr[0]\n",
    "    sec_largest1 = arr[0]\n",
    "    \n",
    "    for i in arr:\n",
    "        if i < smallest1:\n",
    "            sec_smallest1 = smallest1\n",
    "            smallest1 = i\n",
    "        elif i < sec_smallest1 and i != smallest1:\n",
    "            sec_smallest1 = i\n",
    "            \n",
    "    for i in arr:        \n",
    "        if i > largest1:\n",
    "            sec_largest1 = largest1\n",
    "            largest1 = i\n",
    "        elif i > sec_largest1 and i != largest1:\n",
    "            sec_largest1 = i\n",
    "    return (sec_largest1, sec_smallest1)\n",
    "\n",
    "print(SecondLargestAndSecondSmallest1(li))\n",
    "print(SecondLargestAndSecondSmallest2(li))"
   ]
  },
  {
   "cell_type": "code",
   "execution_count": 34,
   "id": "3b18f7de",
   "metadata": {},
   "outputs": [
    {
     "name": "stdout",
     "output_type": "stream",
     "text": [
      "False\n",
      "True\n"
     ]
    }
   ],
   "source": [
    "# Check if the array is sorted or not\n",
    "def CheckSortedArray(arr):\n",
    "    \n",
    "    for i in range(0, len(arr)-1):\n",
    "        if arr[i] > arr[i + 1]:\n",
    "            return False\n",
    "        \n",
    "    return True\n",
    "        \n",
    "print(CheckSortedArray([5,4,3,7,8,2,4,7,1]))\n",
    "print(CheckSortedArray([1,2,2,5,6,7,9]))"
   ]
  },
  {
   "cell_type": "code",
   "execution_count": 47,
   "id": "93701be9",
   "metadata": {},
   "outputs": [
    {
     "name": "stdout",
     "output_type": "stream",
     "text": [
      "[5, 4, 3, 7, 8, 2, 4, 7, 1]\n",
      "[1, 2, 5, 6, 7, 9]\n",
      "[5, 4, 3, 7, 8, 2, 4, 7, 1]\n",
      "[1, 2, 5, 6, 7, 9]\n"
     ]
    }
   ],
   "source": [
    "# Remove duplicates from the sorted array\n",
    "def RemoveDuplicatesFromSortedArray(arr):\n",
    "    n = len(arr)-2\n",
    "    i = 0\n",
    "    while i < n:\n",
    "        if arr[i] == arr[i+1]:\n",
    "            arr.remove(arr[i])\n",
    "            n -= 1\n",
    "        else:\n",
    "            i += 1\n",
    "    return arr\n",
    "\n",
    "# 2nd approach\n",
    "def RemoveDuplicatesFromSortedArray1(arr):\n",
    "    i = 0\n",
    "    for j in range(1, len(arr)):\n",
    "        if arr[i] != arr[j]:\n",
    "            i += 1\n",
    "            arr[i] = arr[j]\n",
    "    return arr[:i+1]\n",
    "\n",
    "print(RemoveDuplicatesFromSortedArray([5,4,3,7,8,2,4,7,1]))\n",
    "print(RemoveDuplicatesFromSortedArray([1,2,2,2,2,5,6,7,9]))\n",
    "\n",
    "print(RemoveDuplicatesFromSortedArray1([5,4,3,7,8,2,4,7,1]))\n",
    "print(RemoveDuplicatesFromSortedArray1([1,2,2,2,2,5,6,7,9]))"
   ]
  },
  {
   "cell_type": "code",
   "execution_count": 75,
   "id": "81530184",
   "metadata": {},
   "outputs": [
    {
     "name": "stdout",
     "output_type": "stream",
     "text": [
      "[2, 5, 6, 7, 9, 1]\n",
      "[2, 5, 6, 7, 9, 1]\n"
     ]
    }
   ],
   "source": [
    "# left rotate the array by one\n",
    "\"\"\"\n",
    "look at the both the conditions and always replace 1st element with the last element using index and not with i'th index  \n",
    "\"\"\"\n",
    "\n",
    "def LeftRotate(arr):\n",
    "    last_will = arr[0]\n",
    "    for i in range(1, len(arr)):\n",
    "        arr[i - 1] = arr[i]\n",
    "    arr[len(arr)-1] = last_will\n",
    "    return arr\n",
    "\n",
    "\n",
    "def LeftRotate1(arr):\n",
    "    last_will = arr[0]\n",
    "    for i in range(len(arr)-1):\n",
    "        arr[i] = arr[i+1]\n",
    "    arr[len(arr)-1] = last_will\n",
    "    return arr\n",
    "\n",
    "print(LeftRotate([1, 2, 5, 6, 7, 9]))\n",
    "print(LeftRotate1([1, 2, 5, 6, 7, 9]))"
   ]
  },
  {
   "cell_type": "code",
   "execution_count": 4,
   "id": "972860da",
   "metadata": {},
   "outputs": [
    {
     "name": "stdout",
     "output_type": "stream",
     "text": [
      "[6, 7, 9, 1, 2, 5]\n"
     ]
    }
   ],
   "source": [
    "# Rotate left by D=any number\n",
    "\n",
    "def reverse_array(arr, start, end):\n",
    "    while start < end:\n",
    "        arr[start],arr[end] = arr[end], arr[start]\n",
    "        start += 1\n",
    "        end -= 1\n",
    "        \n",
    "def RotateArray(array, d):\n",
    "    reverse_array(array, 0, d-1)    # [1,2,5,6,7,9] -> [5,2,1,6,7,9]\n",
    "    reverse_array(array, d, len(array)-1)  # [5,2,1,6,7,9] -> [5,2,1,9,7,6]\n",
    "    reverse_array(array, 0, len(array)-1) # [5,2,1,9,7,6] -> [6,7,9,1,2,5]\n",
    "    return array\n",
    "    \n",
    "print(RotateArray([1, 2, 5, 6, 7, 9], 3))"
   ]
  },
  {
   "cell_type": "code",
   "execution_count": 16,
   "id": "22350410",
   "metadata": {},
   "outputs": [
    {
     "data": {
      "text/plain": [
       "[1, 2, 3, 4]"
      ]
     },
     "execution_count": 16,
     "metadata": {},
     "output_type": "execute_result"
    }
   ],
   "source": [
    "# Move all the zeros to the end of the array\n",
    "\n",
    "# brute force approach 1\n",
    "def move_zero1(arr):\n",
    "    for i in range(0, len(arr)):\n",
    "        if arr[i] == 0:\n",
    "            for j in range(i+1, len(arr)):\n",
    "                if arr[j] != 0:\n",
    "                    arr[j], arr[i] = arr[i], arr[j]\n",
    "                    break\n",
    "    return arr\n",
    "\n",
    "# bf approach 2\n",
    "def move_zero2(arr):\n",
    "    temp_arr = []\n",
    "    for i in arr:\n",
    "        if i != 0:\n",
    "            temp_arr.append(i)\n",
    "            \n",
    "    for i in range(0, len(temp_arr)):\n",
    "        arr[i] = temp_arr[i]\n",
    "        \n",
    "    for i in range(len(temp_arr), len(arr)):\n",
    "        arr[i] = 0\n",
    "        \n",
    "    return arr\n",
    "\n",
    "# optimal approach\n",
    "def optimal_move_zero(arr):\n",
    "    j = -1\n",
    "    \n",
    "#     this is to find the 1st zero in the list\n",
    "    for i in range(len(arr)):\n",
    "        if arr[i] == 0:\n",
    "            j = i\n",
    "            break\n",
    "    if j == -1:\n",
    "        return arr\n",
    "    for i in range(j+1, len(arr)):\n",
    "        if arr[i] != 0:\n",
    "            arr[i], arr[j] = arr[j], arr[i]\n",
    "#             \n",
    "            j += 1\n",
    "            \n",
    "    return arr\n",
    "         \n",
    "# optimal_move_zero([1,0,2,3,0,4,0,1]) \n",
    "# optimal_move_zero([1,2,3,4])"
   ]
  },
  {
   "cell_type": "code",
   "execution_count": 25,
   "id": "bdcc13f0",
   "metadata": {},
   "outputs": [
    {
     "data": {
      "text/plain": [
       "'Not present'"
      ]
     },
     "execution_count": 25,
     "metadata": {},
     "output_type": "execute_result"
    }
   ],
   "source": [
    "# liner search\n",
    "def linear_search(arr, ele):\n",
    "    for i in range(0, len(arr)):\n",
    "        if arr[i] == ele:\n",
    "            return i\n",
    "    return \"Not present\"\n",
    "        \n",
    "linear_search([1, 2, 5, 6, 7, 9], 17)"
   ]
  },
  {
   "cell_type": "code",
   "execution_count": 18,
   "id": "87dac6b9",
   "metadata": {},
   "outputs": [
    {
     "data": {
      "text/plain": [
       "[1, 2, 3, 4, 5, 6, 7]"
      ]
     },
     "execution_count": 18,
     "metadata": {},
     "output_type": "execute_result"
    }
   ],
   "source": [
    "def union_arr(arr1, arr2):\n",
    "    i = 0\n",
    "    j = 0\n",
    "    temp = []\n",
    "    while i < len(arr1) and j < len(arr2):\n",
    "        if arr1[i] <= arr2[j]:\n",
    "            if len(temp) == 0 or temp[len(temp)-1] != arr1[i]:\n",
    "                temp.insert(len(temp), arr1[i])\n",
    "            i += 1\n",
    "        else:\n",
    "            if len(temp) == 0 or temp[len(temp)-1] != arr2[j]:\n",
    "                temp.insert(len(temp), arr2[j])\n",
    "            j += 1\n",
    "            \n",
    "    while i < len(arr1):\n",
    "        if len(temp) == 0 or temp[len(temp)-1] != arr1[i]:\n",
    "            temp.insert(len(temp), arr1[i])\n",
    "        i += 1\n",
    "        \n",
    "    while j < len(arr2):\n",
    "        if len(temp) == 0 or temp[len(temp)-1] != arr2[j]:\n",
    "                temp.insert(len(temp), arr2[j])\n",
    "        j += 1\n",
    "    \n",
    "    return temp\n",
    "union_arr([1,2,3,4,5], [2,3,4,4,5,6,7])"
   ]
  },
  {
   "cell_type": "code",
   "execution_count": 28,
   "id": "ed223b01",
   "metadata": {},
   "outputs": [
    {
     "data": {
      "text/plain": [
       "4"
      ]
     },
     "execution_count": 28,
     "metadata": {},
     "output_type": "execute_result"
    }
   ],
   "source": [
    "# find the missing number in an array\n",
    "\n",
    "# approach 1 : assuming the array is sorted\n",
    "def missing_num1(arr, n):\n",
    "    for i in range(1, n+1):\n",
    "        if 0+i != arr[i-1]:\n",
    "            return i\n",
    "\n",
    "# approach 2 : using summation method\n",
    "def missing_num2(arr, n):\n",
    "    sum_of_n_num = n*(n+1)//2\n",
    "    sum_of_arr = 0\n",
    "    for i in arr:\n",
    "        sum_of_arr += i\n",
    "    return sum_of_n_num - sum_of_arr\n",
    "\n",
    "# approach 3 :\n",
    "def missing_num3(arr, n):\n",
    "    xor1 = 0 # for number in range\n",
    "    xor2 = 0 # for array element\n",
    "    for i in range(0, len(arr)):\n",
    "        xor1 = xor1 ^ i+1\n",
    "        xor2 = xor2 ^ arr[i]\n",
    "        \n",
    "    xor1 = xor1 ^ n\n",
    "    return xor1 ^ xor2\n",
    "\n",
    "missing_num3([1,2,3,5], 5)"
   ]
  },
  {
   "cell_type": "code",
   "execution_count": 31,
   "id": "fb10787f",
   "metadata": {},
   "outputs": [
    {
     "data": {
      "text/plain": [
       "3"
      ]
     },
     "execution_count": 31,
     "metadata": {},
     "output_type": "execute_result"
    }
   ],
   "source": [
    "# Count Maximum Consecutive One’s in the array\n",
    "def max_1(arr):\n",
    "    count = 0\n",
    "    max_count = 0\n",
    "    \n",
    "    for i in range(0, len(arr)):\n",
    "        if arr[i] == 1:\n",
    "            count += 1\n",
    "        else:\n",
    "            if count > max_count:\n",
    "                max_count = count\n",
    "            count = 0\n",
    "    return max_count\n",
    "    \n",
    "max_1([1,1,0,1,1,1,0,1])"
   ]
  },
  {
   "cell_type": "code",
   "execution_count": null,
   "id": "a5b9d05f",
   "metadata": {},
   "outputs": [],
   "source": []
  }
 ],
 "metadata": {
  "kernelspec": {
   "display_name": "Python 3 (ipykernel)",
   "language": "python",
   "name": "python3"
  },
  "language_info": {
   "codemirror_mode": {
    "name": "ipython",
    "version": 3
   },
   "file_extension": ".py",
   "mimetype": "text/x-python",
   "name": "python",
   "nbconvert_exporter": "python",
   "pygments_lexer": "ipython3",
   "version": "3.9.13"
  }
 },
 "nbformat": 4,
 "nbformat_minor": 5
}
